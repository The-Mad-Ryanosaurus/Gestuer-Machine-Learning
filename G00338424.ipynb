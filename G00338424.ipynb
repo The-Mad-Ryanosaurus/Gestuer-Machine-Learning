{
 "cells": [
  {
   "cell_type": "markdown",
   "metadata": {},
   "source": [
    "# **Convolutional Neural Networks: Gesture Machine Learning**\n",
    "### Gesture Based UI\n",
    "#### Lecturer: Donny Hurley\n",
    "---\n",
    "\n",
    "##### Ryan Harte (G00338424)\n",
    "---"
   ]
  },
  {
   "cell_type": "code",
   "execution_count": null,
   "metadata": {},
   "outputs": [],
   "source": []
  }
 ],
 "metadata": {
  "language_info": {
   "name": "python"
  }
 },
 "nbformat": 4,
 "nbformat_minor": 2
}
