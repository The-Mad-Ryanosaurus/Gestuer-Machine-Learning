{
 "cells": [
  {
   "cell_type": "markdown",
   "metadata": {},
   "source": [
    "## **Libraries and Dependencies**"
   ]
  },
  {
   "cell_type": "code",
   "execution_count": 4,
   "metadata": {},
   "outputs": [],
   "source": [
    "# Imports\n",
    "import tensorflow as tf\n",
    "from tensorflow.keras import layers, models, regularizers, optimizers, applications\n",
    "from tensorflow.keras.preprocessing import image\n",
    "from tensorflow.keras.preprocessing.image import load_img, img_to_array\n",
    "from tensorflow.keras.layers import RandomZoom, RandomRotation, RandomFlip, Rescaling, Conv2D, MaxPooling2D, Flatten, Dense, Dropout, BatchNormalization, GlobalAveragePooling2D\n",
    "from sklearn.model_selection import train_test_split\n",
    "from tensorflow.keras.preprocessing import image\n",
    "from tensorflow.keras.applications.vgg16 import preprocess_input\n",
    "from PIL import Image\n",
    "from tensorflow.keras.callbacks import ReduceLROnPlateau, EarlyStopping, LearningRateScheduler\n",
    "from tensorflow.keras.applications import VGG16\n",
    "from sklearn.model_selection import KFold\n",
    "import matplotlib.pyplot as plt\n",
    "import numpy as np\n",
    "import os\n",
    "import random\n",
    "import pandas as pd\n",
    "import cv2\n",
    "import logging\n",
    "import warnings\n",
    "import json\n",
    "\n",
    "\n",
    "# Suppress warnings from the logging module\n",
    "logging.getLogger('tensorflow').setLevel(logging.ERROR)\n",
    "warnings.filterwarnings(\"ignore\", category=UserWarning)\n"
   ]
  },
  {
   "cell_type": "markdown",
   "metadata": {},
   "source": [
    "## **Tensorflow Version**"
   ]
  },
  {
   "cell_type": "code",
   "execution_count": 2,
   "metadata": {},
   "outputs": [
    {
     "name": "stdout",
     "output_type": "stream",
     "text": [
      "2.10.0\n"
     ]
    }
   ],
   "source": [
    "# Tensorflow Version\n",
    "print(tf.__version__)"
   ]
  },
  {
   "cell_type": "markdown",
   "metadata": {},
   "source": [
    "## **GPU Checker**"
   ]
  },
  {
   "cell_type": "code",
   "execution_count": 3,
   "metadata": {},
   "outputs": [
    {
     "name": "stdout",
     "output_type": "stream",
     "text": [
      "GPUs detected: 1\n"
     ]
    }
   ],
   "source": [
    "# Check if any GPU devices are detected\n",
    "gpus = tf.config.list_physical_devices('GPU')\n",
    "if gpus:\n",
    "    print(f\"GPUs detected: {len(gpus)}\")\n",
    "else:\n",
    "    print(\"No GPU detected.\")"
   ]
  },
  {
   "cell_type": "code",
   "execution_count": 6,
   "metadata": {},
   "outputs": [],
   "source": [
    "# Suppress TensorFlow logging except for fatal errors.\n",
    "os.environ['TF_CPP_MIN_LOG_LEVEL'] = '3'"
   ]
  },
  {
   "cell_type": "markdown",
   "metadata": {},
   "source": [
    "## **Global Variables**"
   ]
  },
  {
   "cell_type": "code",
   "execution_count": 5,
   "metadata": {},
   "outputs": [],
   "source": [
    "# Set seed\n",
    "SEED = 338424\n",
    "\n",
    "# Global variables\n",
    "IMG_SIZE = (64, 64)\n",
    "BATCH_SIZE = 32\n",
    "num_classes = 18 # Number of folders in dataset\n",
    "AUTOTUNE = tf.data.AUTOTUNE"
   ]
  },
  {
   "cell_type": "markdown",
   "metadata": {},
   "source": [
    "## **Dataset: Loading, Splitting, Shuffling, Caching**"
   ]
  },
  {
   "cell_type": "code",
   "execution_count": 7,
   "metadata": {},
   "outputs": [
    {
     "name": "stdout",
     "output_type": "stream",
     "text": [
      "Found 125912 files belonging to 18 classes.\n",
      "Using 88128 samples in the Training set\n",
      "Using 25184 samples in the Validation set\n",
      "Using 12600 samples in the Test set\n"
     ]
    }
   ],
   "source": [
    "# Load Dataset\n",
    "dataset_dir = 'dataset/hagridset'\n",
    "full_ds = tf.keras.utils.image_dataset_from_directory(\n",
    "    dataset_dir,\n",
    "    shuffle=True,\n",
    "    seed=SEED,\n",
    "    image_size=(IMG_SIZE),\n",
    "    batch_size=BATCH_SIZE,\n",
    "    label_mode='categorical'\n",
    ")\n",
    "\n",
    "# Split into training, validation, and test sets\n",
    "train_ratio = 0.7\n",
    "val_ratio = 0.2\n",
    "test_ratio = 0.1\n",
    "\n",
    "# Total length of the dataset\n",
    "total_size = len(full_ds)\n",
    "\n",
    "# Compute indices for the splits\n",
    "train_size = int(total_size * train_ratio)\n",
    "val_size = int(total_size * val_ratio)\n",
    "test_size = total_size - (train_size + val_size)\n",
    "\n",
    "# Split the dataset and shuffle\n",
    "train_ds = full_ds.take(train_size).shuffle(train_size, seed=SEED)\n",
    "val_ds = full_ds.skip(train_size).take(val_size).shuffle(val_size, seed=SEED)\n",
    "test_ds = full_ds.skip(train_size + val_size).shuffle(test_size, seed=SEED)\n",
    "\n",
    "# Cache the dataset in memory (or use a directory to store it on disk if necessary)\n",
    "train_ds = full_ds.take(train_size).shuffle(train_size, seed=SEED).cache().prefetch(buffer_size=AUTOTUNE)\n",
    "val_ds = full_ds.skip(train_size).take(val_size).shuffle(val_size, seed=SEED).cache().prefetch(buffer_size=AUTOTUNE)\n",
    "test_ds = full_ds.skip(train_size + val_size).cache().prefetch(buffer_size=AUTOTUNE)\n",
    "\n",
    "# Count samples in each subset\n",
    "def count_samples(dataset):\n",
    "    sample_count = sum(1 for _ in dataset.unbatch())\n",
    "    return sample_count\n",
    "\n",
    "# Output the number of samples for each dataset\n",
    "print(f'Using {count_samples(train_ds)} samples in the Training set')\n",
    "print(f'Using {count_samples(val_ds)} samples in the Validation set')\n",
    "print(f'Using {count_samples(test_ds)} samples in the Test set')"
   ]
  },
  {
   "cell_type": "code",
   "execution_count": 7,
   "metadata": {},
   "outputs": [
    {
     "data": {
      "text/plain": [
       "['call',\n",
       " 'dislike',\n",
       " 'fist',\n",
       " 'four',\n",
       " 'like',\n",
       " 'mute',\n",
       " 'ok',\n",
       " 'one',\n",
       " 'palm',\n",
       " 'peace',\n",
       " 'peace_inverted',\n",
       " 'rock',\n",
       " 'stop',\n",
       " 'stop_inverted',\n",
       " 'three',\n",
       " 'three2',\n",
       " 'two_up',\n",
       " 'two_up_inverted']"
      ]
     },
     "execution_count": 7,
     "metadata": {},
     "output_type": "execute_result"
    }
   ],
   "source": [
    "# Get class names\n",
    "class_names = full_ds.class_names\n",
    "class_names"
   ]
  },
  {
   "cell_type": "markdown",
   "metadata": {},
   "source": [
    "#### **Dataset: Shallow - Save**"
   ]
  },
  {
   "cell_type": "code",
   "execution_count": 8,
   "metadata": {},
   "outputs": [],
   "source": [
    "path_to_save = 'savedDatasetShallowRGB'\n",
    "\n",
    "tf.data.experimental.save(train_ds, path_to_save + '/train')\n",
    "tf.data.experimental.save(val_ds, path_to_save + '/val')\n",
    "tf.data.experimental.save(test_ds, path_to_save + '/test')"
   ]
  },
  {
   "cell_type": "markdown",
   "metadata": {},
   "source": [
    "## **Regularization Factors**\n",
    "\n",
    "This code snippet defines the values for L1 and L2 regularization, which are both set to 0.01. It then creates an \"Elastic Net Regularizer\" that combines these L1 and L2 values to help prevent the model from overfitting by penalizing overly complex or large weight values in the model's learning process."
   ]
  },
  {
   "cell_type": "code",
   "execution_count": 9,
   "metadata": {},
   "outputs": [],
   "source": [
    "# Define L1 and L2 regularization factors\n",
    "l1_factor = 0.01  # Example value\n",
    "l2_factor = 0.01  # Example value\n",
    "\n",
    "# Elastic Net Regularizer\n",
    "elastic_net_regularizer = regularizers.l1_l2(l1=l1_factor, l2=l2_factor)"
   ]
  },
  {
   "cell_type": "markdown",
   "metadata": {},
   "source": [
    "## **Callbacks: Learning Rate Scheduler and Early Stopping**"
   ]
  },
  {
   "cell_type": "code",
   "execution_count": 10,
   "metadata": {},
   "outputs": [],
   "source": [
    "# Define a learning rate schedule\n",
    "def lr_time_based_decay(epoch, lr):\n",
    "    # This function adjusts the learning rate over each epoch based on the initial learning rate,\n",
    "    # applying a decay factor that increases with the epoch number. It effectively reduces the \n",
    "    # learning rate over time, which can help in calibrating the model adjustments as it \n",
    "    # approaches a minimum in the loss surface.\n",
    "    return lr * 1 / (1 + 0.01 * epoch)\n",
    "\n",
    "# Define callbacks\n",
    "callbacks = [\n",
    "    # EarlyStopping prevents overfitting by stopping training when the validation loss \n",
    "    # has not improved for 3 consecutive epochs ('patience=3'). It also restores the \n",
    "    # weights of the model to those of the epoch with the best validation loss, ensuring \n",
    "    # the model retains the best learned features even if it starts to overfit afterward.\n",
    "    EarlyStopping(monitor='val_loss', patience=3, restore_best_weights=True),\n",
    "    # LearningRateScheduler adjusts the learning rate according to the lr_time_based_decay function above.\n",
    "    # It logs the new learning rate at the start of each epoch ('verbose=1'), helping to control\n",
    "    # the step size of model updates, which can be crucial for reaching convergence efficiently.\n",
    "    LearningRateScheduler(lr_time_based_decay, verbose=1)\n",
    "]"
   ]
  },
  {
   "cell_type": "markdown",
   "metadata": {},
   "source": [
    "## **Data Augmentation Layers**"
   ]
  },
  {
   "cell_type": "code",
   "execution_count": 11,
   "metadata": {},
   "outputs": [],
   "source": [
    "# Data Augmentation\n",
    "data_augmentation_layers = tf.keras.Sequential([\n",
    "    layers.RandomFlip(\"horizontal\"),\n",
    "    layers.RandomRotation(0.05),\n",
    "])"
   ]
  },
  {
   "cell_type": "markdown",
   "metadata": {},
   "source": [
    "---\n",
    "\n",
    "# **Convolutional Neural Networks (CNN): Shallow Models**\n",
    "\n",
    "---"
   ]
  },
  {
   "cell_type": "markdown",
   "metadata": {},
   "source": [
    "## **CNN Model: Shallow**"
   ]
  },
  {
   "cell_type": "code",
   "execution_count": 12,
   "metadata": {},
   "outputs": [
    {
     "name": "stdout",
     "output_type": "stream",
     "text": [
      "Model: \"sequential_1\"\n",
      "_________________________________________________________________\n",
      " Layer (type)                Output Shape              Param #   \n",
      "=================================================================\n",
      " rescaling (Rescaling)       (None, 64, 64, 3)         0         \n",
      "                                                                 \n",
      " conv2d (Conv2D)             (None, 64, 64, 16)        448       \n",
      "                                                                 \n",
      " batch_normalization (BatchN  (None, 64, 64, 16)       64        \n",
      " ormalization)                                                   \n",
      "                                                                 \n",
      " max_pooling2d (MaxPooling2D  (None, 32, 32, 16)       0         \n",
      " )                                                               \n",
      "                                                                 \n",
      " dropout (Dropout)           (None, 32, 32, 16)        0         \n",
      "                                                                 \n",
      " conv2d_1 (Conv2D)           (None, 32, 32, 32)        4640      \n",
      "                                                                 \n",
      " batch_normalization_1 (Batc  (None, 32, 32, 32)       128       \n",
      " hNormalization)                                                 \n",
      "                                                                 \n",
      " max_pooling2d_1 (MaxPooling  (None, 16, 16, 32)       0         \n",
      " 2D)                                                             \n",
      "                                                                 \n",
      " dropout_1 (Dropout)         (None, 16, 16, 32)        0         \n",
      "                                                                 \n",
      " conv2d_2 (Conv2D)           (None, 16, 16, 64)        18496     \n",
      "                                                                 \n",
      " batch_normalization_2 (Batc  (None, 16, 16, 64)       256       \n",
      " hNormalization)                                                 \n",
      "                                                                 \n",
      " max_pooling2d_2 (MaxPooling  (None, 8, 8, 64)         0         \n",
      " 2D)                                                             \n",
      "                                                                 \n",
      " dropout_2 (Dropout)         (None, 8, 8, 64)          0         \n",
      "                                                                 \n",
      " flatten (Flatten)           (None, 4096)              0         \n",
      "                                                                 \n",
      " dense (Dense)               (None, 18)                73746     \n",
      "                                                                 \n",
      "=================================================================\n",
      "Total params: 97,778\n",
      "Trainable params: 97,554\n",
      "Non-trainable params: 224\n",
      "_________________________________________________________________\n"
     ]
    }
   ],
   "source": [
    "# Define the CNN Model from Scratch\n",
    "def build_scratch_cnn_shallow():\n",
    "    model = models.Sequential()\n",
    "    model.add(tf.keras.Input(shape=(IMG_SIZE[0], IMG_SIZE[1], 3)))\n",
    "    model.add(layers.Rescaling(1.0 / 255))  # Normalize pixel values\n",
    "    \n",
    "    model.add(layers.Conv2D(16, 3, padding='same', activation='relu')) \n",
    "    model.add(layers.BatchNormalization())\n",
    "    model.add(layers.MaxPooling2D())\n",
    "    model.add(layers.Dropout(0.1))\n",
    "    \n",
    "    model.add(layers.Conv2D(32, 3, padding='same', activation='relu'))  \n",
    "    model.add(layers.BatchNormalization())\n",
    "    model.add(layers.MaxPooling2D())\n",
    "    model.add(layers.Dropout(0.1))\n",
    "    \n",
    "    model.add(layers.Conv2D(64, 3, padding='same', activation='relu'))  \n",
    "    model.add(layers.BatchNormalization())\n",
    "    model.add(layers.MaxPooling2D())\n",
    "    model.add(layers.Dropout(0.1))\n",
    "    \n",
    "    model.add(layers.Flatten())\n",
    "\n",
    "    model.add(layers.Dense(num_classes, activation='softmax'))\n",
    "\n",
    "    # Compile model with an initial learning rate\n",
    "    model.compile(\n",
    "        # Adam optimizer is used with a specified initial learning rate of 0.001. The learning rate\n",
    "        # controls how much the weights of the model are adjusted relative to the gradient of the loss \n",
    "        # function. A higher learning rate might converge quickly, but too high can cause the training \n",
    "        # to diverge. A lower learning rate ensures more reliable convergence but at the risk of slowing\n",
    "        # down the training process. The chosen rate of 0.001 is a starting point that balances these factors.\n",
    "        optimizer=tf.keras.optimizers.Adam(learning_rate=0.001),\n",
    "        loss='categorical_crossentropy',\n",
    "        metrics=['accuracy']\n",
    "        )\n",
    "    return model\n",
    "\n",
    "# Instantiate and summarize the lighter model\n",
    "scratch_model_shallow = build_scratch_cnn_shallow()\n",
    "scratch_model_shallow.summary()"
   ]
  },
  {
   "cell_type": "markdown",
   "metadata": {},
   "source": [
    "### **CNN Model: Shallow - Training**"
   ]
  },
  {
   "cell_type": "code",
   "execution_count": 13,
   "metadata": {},
   "outputs": [
    {
     "name": "stdout",
     "output_type": "stream",
     "text": [
      "\n",
      "Epoch 1: LearningRateScheduler setting learning rate to 0.0010000000474974513.\n",
      "Epoch 1/10\n",
      "2754/2754 [==============================] - 34s 11ms/step - loss: 2.3809 - accuracy: 0.3051 - val_loss: 1.7328 - val_accuracy: 0.4539 - lr: 0.0010\n",
      "\n",
      "Epoch 2: LearningRateScheduler setting learning rate to 0.0009900990569281696.\n",
      "Epoch 2/10\n",
      "2754/2754 [==============================] - 29s 11ms/step - loss: 1.4130 - accuracy: 0.5454 - val_loss: 1.1969 - val_accuracy: 0.6238 - lr: 9.9010e-04\n",
      "\n",
      "Epoch 3: LearningRateScheduler setting learning rate to 0.0009706853341092082.\n",
      "Epoch 3/10\n",
      "2754/2754 [==============================] - 29s 11ms/step - loss: 1.1428 - accuracy: 0.6326 - val_loss: 1.1130 - val_accuracy: 0.6535 - lr: 9.7069e-04\n",
      "\n",
      "Epoch 4: LearningRateScheduler setting learning rate to 0.0009424129424128428.\n",
      "Epoch 4/10\n",
      "2754/2754 [==============================] - 29s 10ms/step - loss: 0.9930 - accuracy: 0.6814 - val_loss: 1.0319 - val_accuracy: 0.6766 - lr: 9.4241e-04\n",
      "\n",
      "Epoch 5: LearningRateScheduler setting learning rate to 0.0009061662869778676.\n",
      "Epoch 5/10\n",
      "2754/2754 [==============================] - 29s 10ms/step - loss: 0.8968 - accuracy: 0.7099 - val_loss: 1.0450 - val_accuracy: 0.6752 - lr: 9.0617e-04\n",
      "\n",
      "Epoch 6: LearningRateScheduler setting learning rate to 0.0008630154964824517.\n",
      "Epoch 6/10\n",
      "2754/2754 [==============================] - 29s 10ms/step - loss: 0.8242 - accuracy: 0.7334 - val_loss: 1.0718 - val_accuracy: 0.6818 - lr: 8.6302e-04\n",
      "\n",
      "Epoch 7: LearningRateScheduler setting learning rate to 0.0008141655444149982.\n",
      "Epoch 7/10\n",
      "2754/2754 [==============================] - 29s 10ms/step - loss: 0.7698 - accuracy: 0.7504 - val_loss: 0.8766 - val_accuracy: 0.7266 - lr: 8.1417e-04\n",
      "\n",
      "Epoch 8: LearningRateScheduler setting learning rate to 0.000760902402591761.\n",
      "Epoch 8/10\n",
      "2754/2754 [==============================] - 29s 10ms/step - loss: 0.7337 - accuracy: 0.7617 - val_loss: 0.9367 - val_accuracy: 0.7130 - lr: 7.6090e-04\n",
      "\n",
      "Epoch 9: LearningRateScheduler setting learning rate to 0.0007045392757626595.\n",
      "Epoch 9/10\n",
      "2754/2754 [==============================] - 29s 10ms/step - loss: 0.6969 - accuracy: 0.7741 - val_loss: 0.8890 - val_accuracy: 0.7306 - lr: 7.0454e-04\n",
      "\n",
      "Epoch 10: LearningRateScheduler setting learning rate to 0.0006463663297953135.\n",
      "Epoch 10/10\n",
      "2754/2754 [==============================] - 30s 11ms/step - loss: 0.6642 - accuracy: 0.7849 - val_loss: 0.8118 - val_accuracy: 0.7543 - lr: 6.4637e-04\n"
     ]
    }
   ],
   "source": [
    "# Train CNN Model\n",
    "history_shallow = scratch_model_shallow.fit(\n",
    "    train_ds,\n",
    "    validation_data=val_ds,\n",
    "    epochs=10,\n",
    "    callbacks=callbacks\n",
    ")"
   ]
  },
  {
   "cell_type": "markdown",
   "metadata": {},
   "source": [
    "#### **CNN Model: Shallow - Save**"
   ]
  },
  {
   "cell_type": "code",
   "execution_count": 14,
   "metadata": {},
   "outputs": [],
   "source": [
    "# Save Model: .json\n",
    "# Saves the Model Architecture\n",
    "for key in history_shallow.history.keys():\n",
    "    history_shallow.history[key] = [float(i) for i in history_shallow.history[key]]\n",
    "\n",
    "# Write the JSON file\n",
    "with open('json/cnn_model_shallow.json', 'w') as f:\n",
    "    json.dump(history_shallow.history, f)\n",
    "\n",
    "\n",
    "# Save Model: .h5\n",
    "# Saves the Model Weights and Configurations\n",
    "scratch_model_shallow.save('h5/scratch_model_shallow.h5')"
   ]
  },
  {
   "cell_type": "markdown",
   "metadata": {},
   "source": [
    "## **CNN Model: Shallow Calibrated**"
   ]
  },
  {
   "cell_type": "code",
   "execution_count": 15,
   "metadata": {},
   "outputs": [
    {
     "name": "stdout",
     "output_type": "stream",
     "text": [
      "Model: \"sequential_2\"\n",
      "_________________________________________________________________\n",
      " Layer (type)                Output Shape              Param #   \n",
      "=================================================================\n",
      " rescaling_1 (Rescaling)     (None, 64, 64, 3)         0         \n",
      "                                                                 \n",
      " conv2d_3 (Conv2D)           (None, 64, 64, 32)        896       \n",
      "                                                                 \n",
      " batch_normalization_3 (Batc  (None, 64, 64, 32)       128       \n",
      " hNormalization)                                                 \n",
      "                                                                 \n",
      " max_pooling2d_3 (MaxPooling  (None, 32, 32, 32)       0         \n",
      " 2D)                                                             \n",
      "                                                                 \n",
      " dropout_3 (Dropout)         (None, 32, 32, 32)        0         \n",
      "                                                                 \n",
      " conv2d_4 (Conv2D)           (None, 32, 32, 64)        18496     \n",
      "                                                                 \n",
      " batch_normalization_4 (Batc  (None, 32, 32, 64)       256       \n",
      " hNormalization)                                                 \n",
      "                                                                 \n",
      " max_pooling2d_4 (MaxPooling  (None, 16, 16, 64)       0         \n",
      " 2D)                                                             \n",
      "                                                                 \n",
      " dropout_4 (Dropout)         (None, 16, 16, 64)        0         \n",
      "                                                                 \n",
      " conv2d_5 (Conv2D)           (None, 16, 16, 128)       73856     \n",
      "                                                                 \n",
      " batch_normalization_5 (Batc  (None, 16, 16, 128)      512       \n",
      " hNormalization)                                                 \n",
      "                                                                 \n",
      " max_pooling2d_5 (MaxPooling  (None, 8, 8, 128)        0         \n",
      " 2D)                                                             \n",
      "                                                                 \n",
      " dropout_5 (Dropout)         (None, 8, 8, 128)         0         \n",
      "                                                                 \n",
      " conv2d_6 (Conv2D)           (None, 8, 8, 256)         295168    \n",
      "                                                                 \n",
      " batch_normalization_6 (Batc  (None, 8, 8, 256)        1024      \n",
      " hNormalization)                                                 \n",
      "                                                                 \n",
      " max_pooling2d_6 (MaxPooling  (None, 4, 4, 256)        0         \n",
      " 2D)                                                             \n",
      "                                                                 \n",
      " dropout_6 (Dropout)         (None, 4, 4, 256)         0         \n",
      "                                                                 \n",
      " dense_1 (Dense)             (None, 4, 4, 256)         65792     \n",
      "                                                                 \n",
      " dropout_7 (Dropout)         (None, 4, 4, 256)         0         \n",
      "                                                                 \n",
      " flatten_1 (Flatten)         (None, 4096)              0         \n",
      "                                                                 \n",
      " dense_2 (Dense)             (None, 18)                73746     \n",
      "                                                                 \n",
      "=================================================================\n",
      "Total params: 529,874\n",
      "Trainable params: 528,914\n",
      "Non-trainable params: 960\n",
      "_________________________________________________________________\n"
     ]
    }
   ],
   "source": [
    "# Define the CNN Model from Scratch\n",
    "def build_scratch_cnn_shallow_calibrated():\n",
    "    model = models.Sequential()\n",
    "    model.add(tf.keras.Input(shape=(IMG_SIZE[0], IMG_SIZE[1], 3)))\n",
    "    model.add(layers.Rescaling(1.0 / 255))  # Normalize pixel values\n",
    "    \n",
    "    model.add(layers.Conv2D(32, 3, padding='same', activation='relu')) \n",
    "    model.add(layers.BatchNormalization())\n",
    "    model.add(layers.MaxPooling2D())\n",
    "    model.add(layers.Dropout(0.1))\n",
    "    \n",
    "    model.add(layers.Conv2D(64, 3, padding='same', activation='relu')) \n",
    "    model.add(layers.BatchNormalization()) \n",
    "    model.add(layers.MaxPooling2D())\n",
    "    model.add(layers.Dropout(0.1))\n",
    "    \n",
    "    model.add(layers.Conv2D(128, 3, padding='same', activation='relu'))  \n",
    "    model.add(layers.BatchNormalization())\n",
    "    model.add(layers.MaxPooling2D())\n",
    "    model.add(layers.Dropout(0.1))\n",
    "\n",
    "    model.add(layers.Conv2D(256, 3, padding='same', activation='relu'))  \n",
    "    model.add(layers.BatchNormalization())\n",
    "    model.add(layers.MaxPooling2D())\n",
    "    model.add(layers.Dropout(0.1))\n",
    "\n",
    "    model.add(layers.Dense(256, activation='relu'))\n",
    "    model.add(layers.Dropout(0.3))\n",
    "    \n",
    "    model.add(layers.Flatten())\n",
    "\n",
    "    model.add(layers.Dense(num_classes, activation='softmax'))\n",
    "\n",
    "    # Compile model with an initial learning rate\n",
    "    model.compile(\n",
    "        # Adam optimizer is used with a specified initial learning rate of 0.001. The learning rate\n",
    "        # controls how much the weights of the model are adjusted relative to the gradient of the loss \n",
    "        # function. A higher learning rate might converge quickly, but too high can cause the training \n",
    "        # to diverge. A lower learning rate ensures more reliable convergence but at the risk of slowing\n",
    "        # down the training process. The chosen rate of 0.001 is a starting point that balances these factors.\n",
    "        optimizer=tf.keras.optimizers.Adam(learning_rate=0.001),\n",
    "        loss='categorical_crossentropy',\n",
    "        metrics=['accuracy']\n",
    "        )\n",
    "    \n",
    "    return model\n",
    "\n",
    "# Instantiate and summarize the lighter model\n",
    "scratch_model_shallow_calibrated = build_scratch_cnn_shallow_calibrated()\n",
    "scratch_model_shallow_calibrated.summary()"
   ]
  },
  {
   "cell_type": "markdown",
   "metadata": {},
   "source": [
    "### **CNN Model: Shallow Calibrated - Training**"
   ]
  },
  {
   "cell_type": "code",
   "execution_count": 16,
   "metadata": {},
   "outputs": [
    {
     "name": "stdout",
     "output_type": "stream",
     "text": [
      "\n",
      "Epoch 1: LearningRateScheduler setting learning rate to 0.0010000000474974513.\n",
      "Epoch 1/10\n",
      "2754/2754 [==============================] - 49s 17ms/step - loss: 1.7436 - accuracy: 0.4444 - val_loss: 1.0003 - val_accuracy: 0.6816 - lr: 0.0010\n",
      "\n",
      "Epoch 2: LearningRateScheduler setting learning rate to 0.0009900990569281696.\n",
      "Epoch 2/10\n",
      "2754/2754 [==============================] - 47s 17ms/step - loss: 0.8778 - accuracy: 0.7169 - val_loss: 0.6686 - val_accuracy: 0.7959 - lr: 9.9010e-04\n",
      "\n",
      "Epoch 3: LearningRateScheduler setting learning rate to 0.0009706853341092082.\n",
      "Epoch 3/10\n",
      "2754/2754 [==============================] - 47s 17ms/step - loss: 0.6649 - accuracy: 0.7857 - val_loss: 0.9118 - val_accuracy: 0.7064 - lr: 9.7069e-04\n",
      "\n",
      "Epoch 4: LearningRateScheduler setting learning rate to 0.0009424129424128428.\n",
      "Epoch 4/10\n",
      "2754/2754 [==============================] - 47s 17ms/step - loss: 0.5483 - accuracy: 0.8220 - val_loss: 0.6833 - val_accuracy: 0.7864 - lr: 9.4241e-04\n",
      "\n",
      "Epoch 5: LearningRateScheduler setting learning rate to 0.0009061662869778676.\n",
      "Epoch 5/10\n",
      "2754/2754 [==============================] - 47s 17ms/step - loss: 0.4770 - accuracy: 0.8459 - val_loss: 0.5002 - val_accuracy: 0.8397 - lr: 9.0617e-04\n",
      "\n",
      "Epoch 6: LearningRateScheduler setting learning rate to 0.0008630154964824517.\n",
      "Epoch 6/10\n",
      "2754/2754 [==============================] - 47s 17ms/step - loss: 0.4145 - accuracy: 0.8655 - val_loss: 0.5878 - val_accuracy: 0.8179 - lr: 8.6302e-04\n",
      "\n",
      "Epoch 7: LearningRateScheduler setting learning rate to 0.0008141655444149982.\n",
      "Epoch 7/10\n",
      "2754/2754 [==============================] - 47s 17ms/step - loss: 0.3678 - accuracy: 0.8795 - val_loss: 0.4472 - val_accuracy: 0.8598 - lr: 8.1417e-04\n",
      "\n",
      "Epoch 8: LearningRateScheduler setting learning rate to 0.000760902402591761.\n",
      "Epoch 8/10\n",
      "2754/2754 [==============================] - 49s 18ms/step - loss: 0.3241 - accuracy: 0.8949 - val_loss: 0.3545 - val_accuracy: 0.8925 - lr: 7.6090e-04\n",
      "\n",
      "Epoch 9: LearningRateScheduler setting learning rate to 0.0007045392757626595.\n",
      "Epoch 9/10\n",
      "2754/2754 [==============================] - 49s 18ms/step - loss: 0.2922 - accuracy: 0.9041 - val_loss: 0.3464 - val_accuracy: 0.8938 - lr: 7.0454e-04\n",
      "\n",
      "Epoch 10: LearningRateScheduler setting learning rate to 0.0006463663297953135.\n",
      "Epoch 10/10\n",
      "2754/2754 [==============================] - 49s 18ms/step - loss: 0.2613 - accuracy: 0.9139 - val_loss: 0.3666 - val_accuracy: 0.8914 - lr: 6.4637e-04\n"
     ]
    }
   ],
   "source": [
    "# Train the model\n",
    "history_shallow_calibrated = scratch_model_shallow_calibrated.fit(\n",
    "    train_ds,\n",
    "    validation_data=val_ds,\n",
    "    epochs=10,\n",
    "    callbacks=callbacks  # Include both callbacks here\n",
    ")"
   ]
  },
  {
   "cell_type": "markdown",
   "metadata": {},
   "source": [
    "#### **CNN Model: Shallow Calibrated - Save**"
   ]
  },
  {
   "cell_type": "code",
   "execution_count": 17,
   "metadata": {},
   "outputs": [],
   "source": [
    "# Save Model: .json\n",
    "# Saves the Model Architecture\n",
    "for key in history_shallow_calibrated.history.keys():\n",
    "    history_shallow_calibrated.history[key] = [float(i) for i in history_shallow_calibrated.history[key]]\n",
    "\n",
    "# Write the JSON file\n",
    "with open('json/cnn_model_shallow_calibrated.json', 'w') as f:\n",
    "    json.dump(history_shallow_calibrated.history, f)\n",
    "\n",
    "\n",
    "# Save Model: .h5\n",
    "# Saves the Model Weights and Configurations\n",
    "scratch_model_shallow_calibrated.save('h5/scratch_model_shallow_calibrated.h5')"
   ]
  },
  {
   "cell_type": "markdown",
   "metadata": {},
   "source": [
    "## **CNN Model: Shallow Calibrated + Data Augmentation**"
   ]
  },
  {
   "cell_type": "code",
   "execution_count": 18,
   "metadata": {},
   "outputs": [
    {
     "name": "stdout",
     "output_type": "stream",
     "text": [
      "Model: \"sequential_3\"\n",
      "_________________________________________________________________\n",
      " Layer (type)                Output Shape              Param #   \n",
      "=================================================================\n",
      " sequential (Sequential)     (None, 64, 64, 3)         0         \n",
      "                                                                 \n",
      " rescaling_2 (Rescaling)     (None, 64, 64, 3)         0         \n",
      "                                                                 \n",
      " conv2d_7 (Conv2D)           (None, 64, 64, 32)        896       \n",
      "                                                                 \n",
      " batch_normalization_7 (Batc  (None, 64, 64, 32)       128       \n",
      " hNormalization)                                                 \n",
      "                                                                 \n",
      " max_pooling2d_7 (MaxPooling  (None, 32, 32, 32)       0         \n",
      " 2D)                                                             \n",
      "                                                                 \n",
      " dropout_8 (Dropout)         (None, 32, 32, 32)        0         \n",
      "                                                                 \n",
      " conv2d_8 (Conv2D)           (None, 32, 32, 64)        18496     \n",
      "                                                                 \n",
      " batch_normalization_8 (Batc  (None, 32, 32, 64)       256       \n",
      " hNormalization)                                                 \n",
      "                                                                 \n",
      " max_pooling2d_8 (MaxPooling  (None, 16, 16, 64)       0         \n",
      " 2D)                                                             \n",
      "                                                                 \n",
      " dropout_9 (Dropout)         (None, 16, 16, 64)        0         \n",
      "                                                                 \n",
      " conv2d_9 (Conv2D)           (None, 16, 16, 128)       73856     \n",
      "                                                                 \n",
      " batch_normalization_9 (Batc  (None, 16, 16, 128)      512       \n",
      " hNormalization)                                                 \n",
      "                                                                 \n",
      " max_pooling2d_9 (MaxPooling  (None, 8, 8, 128)        0         \n",
      " 2D)                                                             \n",
      "                                                                 \n",
      " dropout_10 (Dropout)        (None, 8, 8, 128)         0         \n",
      "                                                                 \n",
      " conv2d_10 (Conv2D)          (None, 8, 8, 256)         295168    \n",
      "                                                                 \n",
      " batch_normalization_10 (Bat  (None, 8, 8, 256)        1024      \n",
      " chNormalization)                                                \n",
      "                                                                 \n",
      " max_pooling2d_10 (MaxPoolin  (None, 4, 4, 256)        0         \n",
      " g2D)                                                            \n",
      "                                                                 \n",
      " dropout_11 (Dropout)        (None, 4, 4, 256)         0         \n",
      "                                                                 \n",
      " dense_3 (Dense)             (None, 4, 4, 256)         65792     \n",
      "                                                                 \n",
      " dropout_12 (Dropout)        (None, 4, 4, 256)         0         \n",
      "                                                                 \n",
      " flatten_2 (Flatten)         (None, 4096)              0         \n",
      "                                                                 \n",
      " dense_4 (Dense)             (None, 18)                73746     \n",
      "                                                                 \n",
      "=================================================================\n",
      "Total params: 529,874\n",
      "Trainable params: 528,914\n",
      "Non-trainable params: 960\n",
      "_________________________________________________________________\n"
     ]
    }
   ],
   "source": [
    "# Define the CNN Model from Scratch\n",
    "def build_scratch_cnn_shallow_calibrated_DA():\n",
    "    model = models.Sequential()\n",
    "    model.add(tf.keras.Input(shape=(IMG_SIZE[0], IMG_SIZE[1], 3)))\n",
    "    model.add(data_augmentation_layers)\n",
    "    model.add(layers.Rescaling(1.0 / 255))  # Normalize pixel values\n",
    "    \n",
    "    # L1 and L2 regularization is applied to the weights of the layer, with a regularization strength of 0.001.\n",
    "    # This regularization helps prevent overfitting by penalizing large weights, encouraging the model to learn smaller, more general weights.\n",
    "    model.add(layers.Conv2D(32, 3, padding='same', activation='relu'))\n",
    "    model.add(layers.BatchNormalization())\n",
    "    model.add(layers.MaxPooling2D())\n",
    "    model.add(layers.Dropout(0.1))\n",
    "    \n",
    "    model.add(layers.Conv2D(64, 3, padding='same', activation='relu'))\n",
    "    model.add(layers.BatchNormalization()) \n",
    "    model.add(layers.MaxPooling2D())\n",
    "    model.add(layers.Dropout(0.1))\n",
    "    \n",
    "    model.add(layers.Conv2D(128, 3, padding='same', activation='relu'))\n",
    "    model.add(layers.BatchNormalization())\n",
    "    model.add(layers.MaxPooling2D())\n",
    "    model.add(layers.Dropout(0.1))\n",
    "\n",
    "    model.add(layers.Conv2D(256, 3, padding='same', activation='relu'))\n",
    "    model.add(layers.BatchNormalization())\n",
    "    model.add(layers.MaxPooling2D())\n",
    "    model.add(layers.Dropout(0.1))\n",
    "\n",
    "    # Elastic Net Regularization is applied to the weights of this layer, with a regularization strength of 0.001.\n",
    "    # This regularization helps prevent overfitting by penalizing large weights, encouraging the model to learn smaller, more general weights.\n",
    "    model.add(layers.Dense(256, activation='relu', kernel_regularizer=elastic_net_regularizer))\n",
    "    model.add(layers.Dropout(0.3))\n",
    "    \n",
    "    model.add(layers.Flatten())\n",
    "\n",
    "    model.add(layers.Dense(num_classes, activation='softmax'))\n",
    "\n",
    "    # Compile model with an initial learning rate\n",
    "    model.compile(\n",
    "        # Adam optimizer is used with a specified initial learning rate of 0.001. The learning rate\n",
    "        # controls how much the weights of the model are adjusted relative to the gradient of the loss \n",
    "        # function. A higher learning rate might converge quickly, but too high can cause the training \n",
    "        # to diverge. A lower learning rate ensures more reliable convergence but at the risk of slowing\n",
    "        # down the training process. The chosen rate of 0.001 is a starting point that balances these factors.\n",
    "        optimizer=tf.keras.optimizers.Adam(learning_rate=0.001),\n",
    "        loss='categorical_crossentropy',\n",
    "        metrics=['accuracy']\n",
    "        )\n",
    "    \n",
    "    return model\n",
    "\n",
    "# Instantiate and summarize the lighter model\n",
    "scratch_model_shallow_calibrated_DA = build_scratch_cnn_shallow_calibrated_DA()\n",
    "scratch_model_shallow_calibrated_DA.summary()"
   ]
  },
  {
   "cell_type": "markdown",
   "metadata": {},
   "source": [
    "### **CNN Model: Shallow Calibrated Data Augmentation - Training**"
   ]
  },
  {
   "cell_type": "code",
   "execution_count": 19,
   "metadata": {},
   "outputs": [
    {
     "name": "stdout",
     "output_type": "stream",
     "text": [
      "\n",
      "Epoch 1: LearningRateScheduler setting learning rate to 0.0010000000474974513.\n",
      "Epoch 1/10\n",
      "2754/2754 [==============================] - 340s 123ms/step - loss: 3.4081 - accuracy: 0.3227 - val_loss: 1.9072 - val_accuracy: 0.5213 - lr: 0.0010\n",
      "\n",
      "Epoch 2: LearningRateScheduler setting learning rate to 0.0009900990569281696.\n",
      "Epoch 2/10\n",
      "2754/2754 [==============================] - 340s 123ms/step - loss: 1.5737 - accuracy: 0.6075 - val_loss: 1.3961 - val_accuracy: 0.6889 - lr: 9.9010e-04\n",
      "\n",
      "Epoch 3: LearningRateScheduler setting learning rate to 0.0009706853341092082.\n",
      "Epoch 3/10\n",
      "2754/2754 [==============================] - 340s 123ms/step - loss: 1.3172 - accuracy: 0.6903 - val_loss: 1.1833 - val_accuracy: 0.7443 - lr: 9.7069e-04\n",
      "\n",
      "Epoch 4: LearningRateScheduler setting learning rate to 0.0009424129424128428.\n",
      "Epoch 4/10\n",
      "2754/2754 [==============================] - 340s 124ms/step - loss: 1.1820 - accuracy: 0.7300 - val_loss: 1.0523 - val_accuracy: 0.7829 - lr: 9.4241e-04\n",
      "\n",
      "Epoch 5: LearningRateScheduler setting learning rate to 0.0009061662869778676.\n",
      "Epoch 5/10\n",
      "2754/2754 [==============================] - 328s 119ms/step - loss: 1.0973 - accuracy: 0.7511 - val_loss: 0.9407 - val_accuracy: 0.8147 - lr: 9.0617e-04\n",
      "\n",
      "Epoch 6: LearningRateScheduler setting learning rate to 0.0008630154964824517.\n",
      "Epoch 6/10\n",
      "2754/2754 [==============================] - 323s 117ms/step - loss: 1.0237 - accuracy: 0.7714 - val_loss: 0.8594 - val_accuracy: 0.8289 - lr: 8.6302e-04\n",
      "\n",
      "Epoch 7: LearningRateScheduler setting learning rate to 0.0008141655444149982.\n",
      "Epoch 7/10\n",
      "2754/2754 [==============================] - 315s 114ms/step - loss: 0.9676 - accuracy: 0.7848 - val_loss: 0.8300 - val_accuracy: 0.8339 - lr: 8.1417e-04\n",
      "\n",
      "Epoch 8: LearningRateScheduler setting learning rate to 0.000760902402591761.\n",
      "Epoch 8/10\n",
      "2754/2754 [==============================] - 313s 114ms/step - loss: 0.9179 - accuracy: 0.7974 - val_loss: 0.7919 - val_accuracy: 0.8468 - lr: 7.6090e-04\n",
      "\n",
      "Epoch 9: LearningRateScheduler setting learning rate to 0.0007045392757626595.\n",
      "Epoch 9/10\n",
      "2754/2754 [==============================] - 313s 114ms/step - loss: 0.8745 - accuracy: 0.8062 - val_loss: 0.8980 - val_accuracy: 0.8052 - lr: 7.0454e-04\n",
      "\n",
      "Epoch 10: LearningRateScheduler setting learning rate to 0.0006463663297953135.\n",
      "Epoch 10/10\n",
      "2754/2754 [==============================] - 319s 116ms/step - loss: 0.8262 - accuracy: 0.8162 - val_loss: 0.6314 - val_accuracy: 0.8827 - lr: 6.4637e-04\n"
     ]
    }
   ],
   "source": [
    "# Train the model\n",
    "history_shallow_calibrated_DA = scratch_model_shallow_calibrated_DA.fit(\n",
    "    train_ds,\n",
    "    validation_data=val_ds,\n",
    "    epochs=10,\n",
    "    callbacks=callbacks  # Include both callbacks here\n",
    ")"
   ]
  },
  {
   "cell_type": "markdown",
   "metadata": {},
   "source": [
    "#### **CNN Model: Shallow Calibrated Data Augmentation - Save**"
   ]
  },
  {
   "cell_type": "code",
   "execution_count": 20,
   "metadata": {},
   "outputs": [],
   "source": [
    "# Save Model: .json\n",
    "# Saves the Model Architecture\n",
    "for key in history_shallow_calibrated_DA.history.keys():\n",
    "    history_shallow_calibrated_DA.history[key] = [float(i) for i in history_shallow_calibrated_DA.history[key]]\n",
    "\n",
    "# Write the JSON file\n",
    "with open('json/cnn_model_shallow_calibrated_DA.json', 'w') as f:\n",
    "    json.dump(history_shallow_calibrated_DA.history, f)\n",
    "\n",
    "\n",
    "# Save Model: .h5\n",
    "# Saves the Model Weights and Configurations\n",
    "scratch_model_shallow_calibrated_DA.save('h5/scratch_model_shallow_calibrated_DA.h5')"
   ]
  },
  {
   "cell_type": "markdown",
   "metadata": {},
   "source": [
    "## **CNN Model: Shallow Grayscale**"
   ]
  },
  {
   "cell_type": "markdown",
   "metadata": {},
   "source": [
    "### **Dataset: Loading, Splitting, Shuffling, Caching**"
   ]
  },
  {
   "cell_type": "code",
   "execution_count": 21,
   "metadata": {},
   "outputs": [
    {
     "name": "stdout",
     "output_type": "stream",
     "text": [
      "Found 125912 files belonging to 18 classes.\n",
      "Using 88128 samples in the Training set Grayscale\n",
      "Using 25184 samples in the Validation set Grayscale\n",
      "Using 12600 samples in the Test set Grayscale\n"
     ]
    }
   ],
   "source": [
    "# Load Grayscale Dataset\n",
    "dataset_dir = 'dataset/hagridset'\n",
    "full_ds_grayscale = tf.keras.utils.image_dataset_from_directory(\n",
    "    dataset_dir,\n",
    "    shuffle=True,\n",
    "    seed=SEED,\n",
    "    image_size=(IMG_SIZE),\n",
    "    batch_size=BATCH_SIZE,\n",
    "    label_mode='categorical',\n",
    "    color_mode='grayscale'  # Load images as grayscale\n",
    ")\n",
    "\n",
    "# Split into training, validation, and test sets\n",
    "train_ratio_grayscale = 0.7\n",
    "val_ratio_grayscale = 0.2\n",
    "test_ratio_grayscale = 0.1\n",
    "\n",
    "# Total length of the dataset\n",
    "total_size_grayscale = len(full_ds_grayscale)\n",
    "\n",
    "# Compute indices for the splits\n",
    "train_size_grayscale = int(total_size_grayscale * train_ratio_grayscale)\n",
    "val_size_grayscale = int(total_size_grayscale * val_ratio_grayscale)\n",
    "test_size_grayscale = total_size_grayscale - (train_size_grayscale + val_size_grayscale)\n",
    "\n",
    "# Split the dataset and shuffle\n",
    "train_ds_grayscale = full_ds_grayscale.take(train_size_grayscale).shuffle(train_size_grayscale, seed=SEED)\n",
    "val_ds_grayscale = full_ds_grayscale.skip(train_size_grayscale).take(val_size_grayscale).shuffle(val_size_grayscale, seed=SEED)\n",
    "test_ds_grayscale = full_ds_grayscale.skip(train_size_grayscale + val_size_grayscale).shuffle(test_size_grayscale, seed=SEED)\n",
    "\n",
    "# Cache the dataset in memory (or use a directory to store it on disk if necessary)\n",
    "train_ds_grayscale = full_ds_grayscale.take(train_size_grayscale).shuffle(train_size_grayscale, seed=SEED).cache().prefetch(buffer_size=AUTOTUNE)\n",
    "val_ds_grayscale = full_ds_grayscale.skip(train_size_grayscale).take(val_size_grayscale).shuffle(val_size_grayscale, seed=SEED).cache().prefetch(buffer_size=AUTOTUNE)\n",
    "test_ds_grayscale = full_ds_grayscale.skip(train_size_grayscale + val_size_grayscale).cache().prefetch(buffer_size=AUTOTUNE)\n",
    "\n",
    "# Count samples in each subset\n",
    "def count_samples(dataset):\n",
    "    sample_count = sum(1 for _ in dataset.unbatch())\n",
    "    return sample_count\n",
    "\n",
    "# Output the number of samples for each dataset\n",
    "print(f'Using {count_samples(train_ds)} samples in the Training set Grayscale')\n",
    "print(f'Using {count_samples(val_ds)} samples in the Validation set Grayscale')\n",
    "print(f'Using {count_samples(test_ds)} samples in the Test set Grayscale')"
   ]
  },
  {
   "cell_type": "code",
   "execution_count": 22,
   "metadata": {},
   "outputs": [],
   "source": [
    "path_to_save = 'savedGrayDataset'\n",
    "\n",
    "tf.data.experimental.save(train_ds, path_to_save + '/train')\n",
    "tf.data.experimental.save(val_ds, path_to_save + '/val')\n",
    "tf.data.experimental.save(test_ds, path_to_save + '/test')"
   ]
  },
  {
   "cell_type": "code",
   "execution_count": 23,
   "metadata": {},
   "outputs": [
    {
     "name": "stdout",
     "output_type": "stream",
     "text": [
      "Model: \"sequential_4\"\n",
      "_________________________________________________________________\n",
      " Layer (type)                Output Shape              Param #   \n",
      "=================================================================\n",
      " rescaling_3 (Rescaling)     (None, 64, 64, 1)         0         \n",
      "                                                                 \n",
      " conv2d_11 (Conv2D)          (None, 64, 64, 32)        320       \n",
      "                                                                 \n",
      " batch_normalization_11 (Bat  (None, 64, 64, 32)       128       \n",
      " chNormalization)                                                \n",
      "                                                                 \n",
      " max_pooling2d_11 (MaxPoolin  (None, 32, 32, 32)       0         \n",
      " g2D)                                                            \n",
      "                                                                 \n",
      " dropout_13 (Dropout)        (None, 32, 32, 32)        0         \n",
      "                                                                 \n",
      " conv2d_12 (Conv2D)          (None, 32, 32, 64)        18496     \n",
      "                                                                 \n",
      " batch_normalization_12 (Bat  (None, 32, 32, 64)       256       \n",
      " chNormalization)                                                \n",
      "                                                                 \n",
      " max_pooling2d_12 (MaxPoolin  (None, 16, 16, 64)       0         \n",
      " g2D)                                                            \n",
      "                                                                 \n",
      " dropout_14 (Dropout)        (None, 16, 16, 64)        0         \n",
      "                                                                 \n",
      " conv2d_13 (Conv2D)          (None, 16, 16, 128)       73856     \n",
      "                                                                 \n",
      " batch_normalization_13 (Bat  (None, 16, 16, 128)      512       \n",
      " chNormalization)                                                \n",
      "                                                                 \n",
      " max_pooling2d_13 (MaxPoolin  (None, 8, 8, 128)        0         \n",
      " g2D)                                                            \n",
      "                                                                 \n",
      " dropout_15 (Dropout)        (None, 8, 8, 128)         0         \n",
      "                                                                 \n",
      " conv2d_14 (Conv2D)          (None, 8, 8, 256)         295168    \n",
      "                                                                 \n",
      " batch_normalization_14 (Bat  (None, 8, 8, 256)        1024      \n",
      " chNormalization)                                                \n",
      "                                                                 \n",
      " max_pooling2d_14 (MaxPoolin  (None, 4, 4, 256)        0         \n",
      " g2D)                                                            \n",
      "                                                                 \n",
      " dropout_16 (Dropout)        (None, 4, 4, 256)         0         \n",
      "                                                                 \n",
      " dense_5 (Dense)             (None, 4, 4, 256)         65792     \n",
      "                                                                 \n",
      " dropout_17 (Dropout)        (None, 4, 4, 256)         0         \n",
      "                                                                 \n",
      " flatten_3 (Flatten)         (None, 4096)              0         \n",
      "                                                                 \n",
      " dense_6 (Dense)             (None, 18)                73746     \n",
      "                                                                 \n",
      "=================================================================\n",
      "Total params: 529,298\n",
      "Trainable params: 528,338\n",
      "Non-trainable params: 960\n",
      "_________________________________________________________________\n"
     ]
    }
   ],
   "source": [
    "# Define the CNN Model from Scratch\n",
    "def build_scratch_cnn_shallow_grayscale():\n",
    "    model = models.Sequential()\n",
    "    model.add(tf.keras.Input(shape=(IMG_SIZE[0], IMG_SIZE[1], 1)))\n",
    "    # model.add(data_augmentation_layers)\n",
    "    model.add(layers.Rescaling(1.0 / 255))  # Normalize pixel values\n",
    "    \n",
    "    # L1 and L2 regularization is applied to the weights of the layer, with a regularization strength of 0.001.\n",
    "    # This regularization helps prevent overfitting by penalizing large weights, encouraging the model to learn smaller, more general weights.\n",
    "    model.add(layers.Conv2D(32, 3, padding='same', activation='relu'))\n",
    "    model.add(layers.BatchNormalization())\n",
    "    model.add(layers.MaxPooling2D())\n",
    "    model.add(layers.Dropout(0.1))\n",
    "    \n",
    "    model.add(layers.Conv2D(64, 3, padding='same', activation='relu'))\n",
    "    model.add(layers.BatchNormalization()) \n",
    "    model.add(layers.MaxPooling2D())\n",
    "    model.add(layers.Dropout(0.1))\n",
    "    \n",
    "    model.add(layers.Conv2D(128, 3, padding='same', activation='relu'))\n",
    "    model.add(layers.BatchNormalization())\n",
    "    model.add(layers.MaxPooling2D())\n",
    "    model.add(layers.Dropout(0.1))\n",
    "\n",
    "    model.add(layers.Conv2D(256, 3, padding='same', activation='relu'))\n",
    "    model.add(layers.BatchNormalization())\n",
    "    model.add(layers.MaxPooling2D())\n",
    "    model.add(layers.Dropout(0.1))\n",
    "\n",
    "    # Elastic Net Regularization is applied to the weights of this layer, with a regularization strength of 0.001.\n",
    "    # This regularization helps prevent overfitting by penalizing large weights, encouraging the model to learn smaller, more general weights.\n",
    "    model.add(layers.Dense(256, activation='relu', kernel_regularizer=elastic_net_regularizer))\n",
    "    model.add(layers.Dropout(0.3))\n",
    "    \n",
    "    model.add(layers.Flatten())\n",
    "\n",
    "    model.add(layers.Dense(num_classes, activation='softmax'))\n",
    "\n",
    "    # Compile model with an initial learning rate\n",
    "    model.compile(\n",
    "        # Adam optimizer is used with a specified initial learning rate of 0.001. The learning rate\n",
    "        # controls how much the weights of the model are adjusted relative to the gradient of the loss \n",
    "        # function. A higher learning rate might converge quickly, but too high can cause the training \n",
    "        # to diverge. A lower learning rate ensures more reliable convergence but at the risk of slowing\n",
    "        # down the training process. The chosen rate of 0.001 is a starting point that balances these factors.\n",
    "        optimizer=tf.keras.optimizers.Adam(learning_rate=0.001),\n",
    "        loss='categorical_crossentropy',\n",
    "        metrics=['accuracy']\n",
    "        )\n",
    "    \n",
    "    return model\n",
    "\n",
    "# Instantiate and summarize the lighter model\n",
    "scratch_model_shallow_grayscale = build_scratch_cnn_shallow_grayscale()\n",
    "scratch_model_shallow_grayscale.summary()"
   ]
  },
  {
   "cell_type": "markdown",
   "metadata": {},
   "source": [
    "### **CNN Model: Grayscale Training**"
   ]
  },
  {
   "cell_type": "code",
   "execution_count": 24,
   "metadata": {},
   "outputs": [
    {
     "name": "stdout",
     "output_type": "stream",
     "text": [
      "\n",
      "Epoch 1: LearningRateScheduler setting learning rate to 0.0010000000474974513.\n",
      "Epoch 1/10\n",
      "2754/2754 [==============================] - 118s 24ms/step - loss: 3.3789 - accuracy: 0.3286 - val_loss: 1.8594 - val_accuracy: 0.5202 - lr: 0.0010\n",
      "\n",
      "Epoch 2: LearningRateScheduler setting learning rate to 0.0009900990569281696.\n",
      "Epoch 2/10\n",
      "2754/2754 [==============================] - 31s 11ms/step - loss: 1.6744 - accuracy: 0.5744 - val_loss: 1.5798 - val_accuracy: 0.6136 - lr: 9.9010e-04\n",
      "\n",
      "Epoch 3: LearningRateScheduler setting learning rate to 0.0009706853341092082.\n",
      "Epoch 3/10\n",
      "2754/2754 [==============================] - 32s 11ms/step - loss: 1.4207 - accuracy: 0.6538 - val_loss: 1.6168 - val_accuracy: 0.5993 - lr: 9.7069e-04\n",
      "\n",
      "Epoch 4: LearningRateScheduler setting learning rate to 0.0009424129424128428.\n",
      "Epoch 4/10\n",
      "2754/2754 [==============================] - 31s 11ms/step - loss: 1.2892 - accuracy: 0.6940 - val_loss: 1.1943 - val_accuracy: 0.7361 - lr: 9.4241e-04\n",
      "\n",
      "Epoch 5: LearningRateScheduler setting learning rate to 0.0009061662869778676.\n",
      "Epoch 5/10\n",
      "2754/2754 [==============================] - 30s 11ms/step - loss: 1.1966 - accuracy: 0.7220 - val_loss: 1.0872 - val_accuracy: 0.7631 - lr: 9.0617e-04\n",
      "\n",
      "Epoch 6: LearningRateScheduler setting learning rate to 0.0008630154964824517.\n",
      "Epoch 6/10\n",
      "2754/2754 [==============================] - 30s 11ms/step - loss: 1.1178 - accuracy: 0.7452 - val_loss: 1.0516 - val_accuracy: 0.7749 - lr: 8.6302e-04\n",
      "\n",
      "Epoch 7: LearningRateScheduler setting learning rate to 0.0008141655444149982.\n",
      "Epoch 7/10\n",
      "2754/2754 [==============================] - 30s 11ms/step - loss: 1.0507 - accuracy: 0.7624 - val_loss: 0.9404 - val_accuracy: 0.8016 - lr: 8.1417e-04\n",
      "\n",
      "Epoch 8: LearningRateScheduler setting learning rate to 0.000760902402591761.\n",
      "Epoch 8/10\n",
      "2754/2754 [==============================] - 31s 11ms/step - loss: 1.0007 - accuracy: 0.7750 - val_loss: 1.0152 - val_accuracy: 0.7810 - lr: 7.6090e-04\n",
      "\n",
      "Epoch 9: LearningRateScheduler setting learning rate to 0.0007045392757626595.\n",
      "Epoch 9/10\n",
      "2754/2754 [==============================] - 30s 11ms/step - loss: 0.9437 - accuracy: 0.7898 - val_loss: 0.9708 - val_accuracy: 0.7804 - lr: 7.0454e-04\n",
      "\n",
      "Epoch 10: LearningRateScheduler setting learning rate to 0.0006463663297953135.\n",
      "Epoch 10/10\n",
      "2754/2754 [==============================] - 31s 11ms/step - loss: 0.8973 - accuracy: 0.7999 - val_loss: 1.0323 - val_accuracy: 0.7645 - lr: 6.4637e-04\n"
     ]
    }
   ],
   "source": [
    "# Train the model\n",
    "history_shallow_grayscale = scratch_model_shallow_grayscale.fit(\n",
    "    train_ds_grayscale,\n",
    "    validation_data=val_ds_grayscale,\n",
    "    epochs=10,\n",
    "    callbacks=callbacks  # Include both callbacks here\n",
    ")"
   ]
  },
  {
   "cell_type": "markdown",
   "metadata": {},
   "source": [
    "#### **CNN Model: Grayscale Save**"
   ]
  },
  {
   "cell_type": "code",
   "execution_count": 25,
   "metadata": {},
   "outputs": [],
   "source": [
    "# Save Model: .json\n",
    "# Saves the Model Architecture\n",
    "for key in history_shallow_grayscale.history.keys():\n",
    "    history_shallow_grayscale.history[key] = [float(i) for i in history_shallow_grayscale.history[key]]\n",
    "\n",
    "# Write the JSON file\n",
    "with open('json/cnn_model_shallow_grayscale.json', 'w') as f:\n",
    "    json.dump(history_shallow_grayscale.history, f)\n",
    "\n",
    "\n",
    "# Save Model: .h5\n",
    "# Saves the Model Weights and Configurations\n",
    "scratch_model_shallow_grayscale.save('h5/scratch_model_shallow_grayscale.h5')"
   ]
  }
 ],
 "metadata": {
  "kernelspec": {
   "display_name": "py310new",
   "language": "python",
   "name": "python3"
  },
  "language_info": {
   "codemirror_mode": {
    "name": "ipython",
    "version": 3
   },
   "file_extension": ".py",
   "mimetype": "text/x-python",
   "name": "python",
   "nbconvert_exporter": "python",
   "pygments_lexer": "ipython3",
   "version": "3.10.14"
  }
 },
 "nbformat": 4,
 "nbformat_minor": 2
}
