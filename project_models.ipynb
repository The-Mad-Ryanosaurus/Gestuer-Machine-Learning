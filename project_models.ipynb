{
 "cells": [
  {
   "cell_type": "markdown",
   "metadata": {},
   "source": [
    "## **Libraries and Dependencies**"
   ]
  },
  {
   "cell_type": "code",
   "execution_count": 1,
   "metadata": {},
   "outputs": [],
   "source": [
    "# Imports\n",
    "import tensorflow as tf\n",
    "from tensorflow.keras import layers, models, regularizers, optimizers, applications\n",
    "from tensorflow.keras.preprocessing import image\n",
    "from tensorflow.keras.preprocessing.image import load_img, img_to_array\n",
    "from tensorflow.keras.layers import RandomZoom, RandomRotation, RandomFlip, Rescaling, Conv2D, MaxPooling2D, Flatten, Dense, Dropout, BatchNormalization, GlobalAveragePooling2D\n",
    "from sklearn.model_selection import train_test_split\n",
    "from tensorflow.keras.preprocessing import image\n",
    "from tensorflow.keras.applications.vgg16 import preprocess_input\n",
    "from PIL import Image\n",
    "from tensorflow.keras.callbacks import ReduceLROnPlateau, EarlyStopping, LearningRateScheduler\n",
    "from tensorflow.keras.applications import VGG16\n",
    "from sklearn.model_selection import KFold\n",
    "import matplotlib.pyplot as plt\n",
    "import numpy as np\n",
    "import os\n",
    "import random\n",
    "import pandas as pd\n",
    "import cv2\n",
    "import logging\n",
    "import warnings\n",
    "import json\n",
    "\n",
    "\n",
    "# Suppress warnings from the logging module\n",
    "logging.getLogger('tensorflow').setLevel(logging.ERROR)\n",
    "warnings.filterwarnings(\"ignore\", category=UserWarning)\n"
   ]
  },
  {
   "cell_type": "markdown",
   "metadata": {},
   "source": [
    "## **Tensorflow Version**"
   ]
  },
  {
   "cell_type": "code",
   "execution_count": 2,
   "metadata": {},
   "outputs": [
    {
     "name": "stdout",
     "output_type": "stream",
     "text": [
      "2.10.0\n"
     ]
    }
   ],
   "source": [
    "# Tensorflow Version\n",
    "print(tf.__version__)"
   ]
  },
  {
   "cell_type": "markdown",
   "metadata": {},
   "source": [
    "## **GPU Checker**"
   ]
  },
  {
   "cell_type": "code",
   "execution_count": 3,
   "metadata": {},
   "outputs": [
    {
     "name": "stdout",
     "output_type": "stream",
     "text": [
      "GPUs detected: 1\n"
     ]
    }
   ],
   "source": [
    "# Check if any GPU devices are detected\n",
    "gpus = tf.config.list_physical_devices('GPU')\n",
    "if gpus:\n",
    "    print(f\"GPUs detected: {len(gpus)}\")\n",
    "else:\n",
    "    print(\"No GPU detected.\")"
   ]
  },
  {
   "cell_type": "code",
   "execution_count": 5,
   "metadata": {},
   "outputs": [],
   "source": [
    "# Suppress TensorFlow logging except for fatal errors.\n",
    "os.environ['TF_CPP_MIN_LOG_LEVEL'] = '3'"
   ]
  },
  {
   "cell_type": "markdown",
   "metadata": {},
   "source": [
    "## **Global Variables**"
   ]
  },
  {
   "cell_type": "code",
   "execution_count": 6,
   "metadata": {},
   "outputs": [],
   "source": [
    "# Set seed\n",
    "SEED = 338424\n",
    "\n",
    "# Global variables\n",
    "IMG_SIZE = (64, 64)\n",
    "BATCH_SIZE = 32\n",
    "num_classes = 18 # Number of folders in dataset\n",
    "AUTOTUNE = tf.data.AUTOTUNE"
   ]
  },
  {
   "cell_type": "markdown",
   "metadata": {},
   "source": [
    "## **Dataset: Loading, Splitting, Shuffling, Caching**"
   ]
  },
  {
   "cell_type": "code",
   "execution_count": 44,
   "metadata": {},
   "outputs": [
    {
     "name": "stdout",
     "output_type": "stream",
     "text": [
      "Found 125912 files belonging to 18 classes.\n",
      "Using 88128 samples in the Training set\n",
      "Using 25184 samples in the Validation set\n",
      "Using 12600 samples in the Test set\n"
     ]
    }
   ],
   "source": [
    "# Load Dataset\n",
    "dataset_dir = 'dataset/hagridset'\n",
    "full_ds = tf.keras.utils.image_dataset_from_directory(\n",
    "    dataset_dir,\n",
    "    shuffle=True,\n",
    "    seed=SEED,\n",
    "    image_size=(IMG_SIZE),\n",
    "    batch_size=BATCH_SIZE,\n",
    "    label_mode='categorical'\n",
    ")\n",
    "\n",
    "# Split into training, validation, and test sets\n",
    "train_ratio = 0.7\n",
    "val_ratio = 0.2\n",
    "test_ratio = 0.1\n",
    "\n",
    "# Total length of the dataset\n",
    "total_size = len(full_ds)\n",
    "\n",
    "# Compute indices for the splits\n",
    "train_size = int(total_size * train_ratio)\n",
    "val_size = int(total_size * val_ratio)\n",
    "test_size = total_size - (train_size + val_size)\n",
    "\n",
    "# Split the dataset and shuffle\n",
    "train_ds = full_ds.take(train_size).shuffle(train_size, seed=SEED)\n",
    "val_ds = full_ds.skip(train_size).take(val_size).shuffle(val_size, seed=SEED)\n",
    "test_ds = full_ds.skip(train_size + val_size).shuffle(test_size, seed=SEED)\n",
    "\n",
    "# Cache the dataset in memory (or use a directory to store it on disk if necessary)\n",
    "train_ds = full_ds.take(train_size).shuffle(train_size, seed=SEED).cache().prefetch(buffer_size=AUTOTUNE)\n",
    "val_ds = full_ds.skip(train_size).take(val_size).shuffle(val_size, seed=SEED).cache().prefetch(buffer_size=AUTOTUNE)\n",
    "test_ds = full_ds.skip(train_size + val_size).cache().prefetch(buffer_size=AUTOTUNE)\n",
    "\n",
    "# Count samples in each subset\n",
    "def count_samples(dataset):\n",
    "    sample_count = sum(1 for _ in dataset.unbatch())\n",
    "    return sample_count\n",
    "\n",
    "# Output the number of samples for each dataset\n",
    "print(f'Using {count_samples(train_ds)} samples in the Training set')\n",
    "print(f'Using {count_samples(val_ds)} samples in the Validation set')\n",
    "print(f'Using {count_samples(test_ds)} samples in the Test set')"
   ]
  },
  {
   "cell_type": "code",
   "execution_count": 45,
   "metadata": {},
   "outputs": [
    {
     "data": {
      "text/plain": [
       "['call',\n",
       " 'dislike',\n",
       " 'fist',\n",
       " 'four',\n",
       " 'like',\n",
       " 'mute',\n",
       " 'ok',\n",
       " 'one',\n",
       " 'palm',\n",
       " 'peace',\n",
       " 'peace_inverted',\n",
       " 'rock',\n",
       " 'stop',\n",
       " 'stop_inverted',\n",
       " 'three',\n",
       " 'three2',\n",
       " 'two_up',\n",
       " 'two_up_inverted']"
      ]
     },
     "execution_count": 45,
     "metadata": {},
     "output_type": "execute_result"
    }
   ],
   "source": [
    "# Get class names\n",
    "class_names = full_ds.class_names\n",
    "class_names"
   ]
  },
  {
   "cell_type": "markdown",
   "metadata": {},
   "source": [
    "#### **Dataset: Save**"
   ]
  },
  {
   "cell_type": "code",
   "execution_count": null,
   "metadata": {},
   "outputs": [],
   "source": [
    "path_to_save = 'savedDataset'\n",
    "\n",
    "tf.data.experimental.save(train_ds, path_to_save + '/train')\n",
    "tf.data.experimental.save(val_ds, path_to_save + '/val')\n",
    "tf.data.experimental.save(test_ds, path_to_save + '/test')"
   ]
  },
  {
   "cell_type": "markdown",
   "metadata": {},
   "source": [
    "## **Regularization Factors**\n",
    "\n",
    "This code snippet defines the values for L1 and L2 regularization, which are both set to 0.01. It then creates an \"Elastic Net Regularizer\" that combines these L1 and L2 values to help prevent the model from overfitting by penalizing overly complex or large weight values in the model's learning process."
   ]
  },
  {
   "cell_type": "code",
   "execution_count": 9,
   "metadata": {},
   "outputs": [],
   "source": [
    "# Define L1 and L2 regularization factors\n",
    "l1_factor = 0.01  # Example value\n",
    "l2_factor = 0.01  # Example value\n",
    "\n",
    "# Elastic Net Regularizer\n",
    "elastic_net_regularizer = regularizers.l1_l2(l1=l1_factor, l2=l2_factor)"
   ]
  },
  {
   "cell_type": "markdown",
   "metadata": {},
   "source": [
    "## **Callbacks: Learning Rate Scheduler and Early Stopping**"
   ]
  },
  {
   "cell_type": "code",
   "execution_count": 10,
   "metadata": {},
   "outputs": [],
   "source": [
    "# Define a learning rate schedule\n",
    "def lr_time_based_decay(epoch, lr):\n",
    "    # This function adjusts the learning rate over each epoch based on the initial learning rate,\n",
    "    # applying a decay factor that increases with the epoch number. It effectively reduces the \n",
    "    # learning rate over time, which can help in calibrating the model adjustments as it \n",
    "    # approaches a minimum in the loss surface.\n",
    "    return lr * 1 / (1 + 0.01 * epoch)\n",
    "\n",
    "# Define callbacks\n",
    "callbacks = [\n",
    "    # EarlyStopping prevents overfitting by stopping training when the validation loss \n",
    "    # has not improved for 3 consecutive epochs ('patience=3'). It also restores the \n",
    "    # weights of the model to those of the epoch with the best validation loss, ensuring \n",
    "    # the model retains the best learned features even if it starts to overfit afterward.\n",
    "    EarlyStopping(monitor='val_loss', patience=3, restore_best_weights=True),\n",
    "    # LearningRateScheduler adjusts the learning rate according to the lr_time_based_decay function above.\n",
    "    # It logs the new learning rate at the start of each epoch ('verbose=1'), helping to control\n",
    "    # the step size of model updates, which can be crucial for reaching convergence efficiently.\n",
    "    LearningRateScheduler(lr_time_based_decay, verbose=1)\n",
    "]"
   ]
  },
  {
   "cell_type": "markdown",
   "metadata": {},
   "source": [
    "## **Data Augmentation Layers**"
   ]
  },
  {
   "cell_type": "code",
   "execution_count": 11,
   "metadata": {},
   "outputs": [],
   "source": [
    "# Data Augmentation\n",
    "data_augmentation_layers = tf.keras.Sequential([\n",
    "    layers.RandomFlip(\"horizontal\"),\n",
    "    layers.RandomRotation(0.05),\n",
    "])"
   ]
  },
  {
   "cell_type": "markdown",
   "metadata": {},
   "source": [
    "---\n",
    "\n",
    "# **Convolutional Neural Networks (CNN)**\n",
    "\n",
    "---"
   ]
  },
  {
   "cell_type": "markdown",
   "metadata": {},
   "source": [
    "---\n",
    "\n",
    "# **CNN's from Scratch: Shallow**\n",
    "\n",
    "---"
   ]
  },
  {
   "cell_type": "markdown",
   "metadata": {},
   "source": [
    "## **CNN Model: Shallow**"
   ]
  },
  {
   "cell_type": "code",
   "execution_count": 12,
   "metadata": {},
   "outputs": [
    {
     "name": "stdout",
     "output_type": "stream",
     "text": [
      "Model: \"sequential_1\"\n",
      "_________________________________________________________________\n",
      " Layer (type)                Output Shape              Param #   \n",
      "=================================================================\n",
      " rescaling (Rescaling)       (None, 64, 64, 3)         0         \n",
      "                                                                 \n",
      " conv2d (Conv2D)             (None, 64, 64, 16)        448       \n",
      "                                                                 \n",
      " batch_normalization (BatchN  (None, 64, 64, 16)       64        \n",
      " ormalization)                                                   \n",
      "                                                                 \n",
      " max_pooling2d (MaxPooling2D  (None, 32, 32, 16)       0         \n",
      " )                                                               \n",
      "                                                                 \n",
      " dropout (Dropout)           (None, 32, 32, 16)        0         \n",
      "                                                                 \n",
      " conv2d_1 (Conv2D)           (None, 32, 32, 32)        4640      \n",
      "                                                                 \n",
      " batch_normalization_1 (Batc  (None, 32, 32, 32)       128       \n",
      " hNormalization)                                                 \n",
      "                                                                 \n",
      " max_pooling2d_1 (MaxPooling  (None, 16, 16, 32)       0         \n",
      " 2D)                                                             \n",
      "                                                                 \n",
      " dropout_1 (Dropout)         (None, 16, 16, 32)        0         \n",
      "                                                                 \n",
      " conv2d_2 (Conv2D)           (None, 16, 16, 64)        18496     \n",
      "                                                                 \n",
      " batch_normalization_2 (Batc  (None, 16, 16, 64)       256       \n",
      " hNormalization)                                                 \n",
      "                                                                 \n",
      " max_pooling2d_2 (MaxPooling  (None, 8, 8, 64)         0         \n",
      " 2D)                                                             \n",
      "                                                                 \n",
      " dropout_2 (Dropout)         (None, 8, 8, 64)          0         \n",
      "                                                                 \n",
      " flatten (Flatten)           (None, 4096)              0         \n",
      "                                                                 \n",
      " dense (Dense)               (None, 18)                73746     \n",
      "                                                                 \n",
      "=================================================================\n",
      "Total params: 97,778\n",
      "Trainable params: 97,554\n",
      "Non-trainable params: 224\n",
      "_________________________________________________________________\n"
     ]
    }
   ],
   "source": [
    "# Define the CNN Model from Scratch\n",
    "def build_scratch_cnn_shallow():\n",
    "    model = models.Sequential()\n",
    "    model.add(tf.keras.Input(shape=(IMG_SIZE[0], IMG_SIZE[1], 3)))\n",
    "    model.add(layers.Rescaling(1.0 / 255))  # Normalize pixel values\n",
    "    \n",
    "    model.add(layers.Conv2D(16, 3, padding='same', activation='relu')) \n",
    "    model.add(layers.BatchNormalization())\n",
    "    model.add(layers.MaxPooling2D())\n",
    "    model.add(layers.Dropout(0.1))\n",
    "    \n",
    "    model.add(layers.Conv2D(32, 3, padding='same', activation='relu'))  \n",
    "    model.add(layers.BatchNormalization())\n",
    "    model.add(layers.MaxPooling2D())\n",
    "    model.add(layers.Dropout(0.1))\n",
    "    \n",
    "    model.add(layers.Conv2D(64, 3, padding='same', activation='relu'))  \n",
    "    model.add(layers.BatchNormalization())\n",
    "    model.add(layers.MaxPooling2D())\n",
    "    model.add(layers.Dropout(0.1))\n",
    "    \n",
    "    model.add(layers.Flatten())\n",
    "\n",
    "    model.add(layers.Dense(num_classes, activation='softmax'))\n",
    "\n",
    "    # Compile model with an initial learning rate\n",
    "    model.compile(\n",
    "        # Adam optimizer is used with a specified initial learning rate of 0.001. The learning rate\n",
    "        # controls how much the weights of the model are adjusted relative to the gradient of the loss \n",
    "        # function. A higher learning rate might converge quickly, but too high can cause the training \n",
    "        # to diverge. A lower learning rate ensures more reliable convergence but at the risk of slowing\n",
    "        # down the training process. The chosen rate of 0.001 is a starting point that balances these factors.\n",
    "        optimizer=tf.keras.optimizers.Adam(learning_rate=0.001),\n",
    "        loss='categorical_crossentropy',\n",
    "        metrics=['accuracy']\n",
    "        )\n",
    "    return model\n",
    "\n",
    "# Instantiate and summarize the lighter model\n",
    "scratch_model_shallow = build_scratch_cnn_shallow()\n",
    "scratch_model_shallow.summary()"
   ]
  },
  {
   "cell_type": "markdown",
   "metadata": {},
   "source": [
    "### **CNN Model: Shallow - Training**"
   ]
  },
  {
   "cell_type": "code",
   "execution_count": 13,
   "metadata": {},
   "outputs": [
    {
     "name": "stdout",
     "output_type": "stream",
     "text": [
      "\n",
      "Epoch 1: LearningRateScheduler setting learning rate to 0.0010000000474974513.\n",
      "Epoch 1/10\n",
      "2754/2754 [==============================] - 31s 10ms/step - loss: 2.4293 - accuracy: 0.2959 - val_loss: 1.6483 - val_accuracy: 0.4700 - lr: 0.0010\n",
      "\n",
      "Epoch 2: LearningRateScheduler setting learning rate to 0.0009900990569281696.\n",
      "Epoch 2/10\n",
      "2754/2754 [==============================] - 28s 10ms/step - loss: 1.4087 - accuracy: 0.5466 - val_loss: 1.1886 - val_accuracy: 0.6182 - lr: 9.9010e-04\n",
      "\n",
      "Epoch 3: LearningRateScheduler setting learning rate to 0.0009706853341092082.\n",
      "Epoch 3/10\n",
      "2754/2754 [==============================] - 27s 10ms/step - loss: 1.1214 - accuracy: 0.6379 - val_loss: 1.0414 - val_accuracy: 0.6680 - lr: 9.7069e-04\n",
      "\n",
      "Epoch 4: LearningRateScheduler setting learning rate to 0.0009424129424128428.\n",
      "Epoch 4/10\n",
      "2754/2754 [==============================] - 27s 10ms/step - loss: 0.9851 - accuracy: 0.6848 - val_loss: 1.1234 - val_accuracy: 0.6430 - lr: 9.4241e-04\n",
      "\n",
      "Epoch 5: LearningRateScheduler setting learning rate to 0.0009061662869778676.\n",
      "Epoch 5/10\n",
      "2754/2754 [==============================] - 26s 9ms/step - loss: 0.8971 - accuracy: 0.7128 - val_loss: 0.8541 - val_accuracy: 0.7348 - lr: 9.0617e-04\n",
      "\n",
      "Epoch 6: LearningRateScheduler setting learning rate to 0.0008630154964824517.\n",
      "Epoch 6/10\n",
      "2754/2754 [==============================] - 27s 10ms/step - loss: 0.8373 - accuracy: 0.7291 - val_loss: 0.9489 - val_accuracy: 0.6971 - lr: 8.6302e-04\n",
      "\n",
      "Epoch 7: LearningRateScheduler setting learning rate to 0.0008141655444149982.\n",
      "Epoch 7/10\n",
      "2754/2754 [==============================] - 29s 10ms/step - loss: 0.7892 - accuracy: 0.7450 - val_loss: 0.9253 - val_accuracy: 0.7059 - lr: 8.1417e-04\n",
      "\n",
      "Epoch 8: LearningRateScheduler setting learning rate to 0.000760902402591761.\n",
      "Epoch 8/10\n",
      "2754/2754 [==============================] - 27s 10ms/step - loss: 0.7520 - accuracy: 0.7557 - val_loss: 0.7799 - val_accuracy: 0.7574 - lr: 7.6090e-04\n",
      "\n",
      "Epoch 9: LearningRateScheduler setting learning rate to 0.0007045392757626595.\n",
      "Epoch 9/10\n",
      "2754/2754 [==============================] - 27s 10ms/step - loss: 0.7194 - accuracy: 0.7681 - val_loss: 0.8025 - val_accuracy: 0.7500 - lr: 7.0454e-04\n",
      "\n",
      "Epoch 10: LearningRateScheduler setting learning rate to 0.0006463663297953135.\n",
      "Epoch 10/10\n",
      "2754/2754 [==============================] - 27s 10ms/step - loss: 0.6907 - accuracy: 0.7754 - val_loss: 0.7732 - val_accuracy: 0.7616 - lr: 6.4637e-04\n"
     ]
    }
   ],
   "source": [
    "# Train CNN Model\n",
    "history_shallow = scratch_model_shallow.fit(\n",
    "    train_ds,\n",
    "    validation_data=val_ds,\n",
    "    epochs=10,\n",
    "    callbacks=callbacks\n",
    ")"
   ]
  },
  {
   "cell_type": "markdown",
   "metadata": {},
   "source": [
    "#### **CNN Model: Shallow - Save**"
   ]
  },
  {
   "cell_type": "code",
   "execution_count": 15,
   "metadata": {},
   "outputs": [],
   "source": [
    "# Save Model: .json\n",
    "# Saves the Model Architecture\n",
    "for key in history_shallow.history.keys():\n",
    "    history_shallow.history[key] = [float(i) for i in history_shallow.history[key]]\n",
    "\n",
    "# Write the JSON file\n",
    "with open('json/cnn_model_shallow.json', 'w') as f:\n",
    "    json.dump(history_shallow.history, f)\n",
    "\n",
    "\n",
    "# Save Model: .h5\n",
    "# Saves the Model Weights and Configurations\n",
    "scratch_model_shallow.save('h5/scratch_model_shallow.h5')"
   ]
  },
  {
   "cell_type": "markdown",
   "metadata": {},
   "source": [
    "## **CNN Model: Shallow Calibrated**"
   ]
  },
  {
   "cell_type": "code",
   "execution_count": 17,
   "metadata": {},
   "outputs": [
    {
     "name": "stdout",
     "output_type": "stream",
     "text": [
      "Model: \"sequential_3\"\n",
      "_________________________________________________________________\n",
      " Layer (type)                Output Shape              Param #   \n",
      "=================================================================\n",
      " rescaling_2 (Rescaling)     (None, 64, 64, 3)         0         \n",
      "                                                                 \n",
      " conv2d_7 (Conv2D)           (None, 64, 64, 32)        896       \n",
      "                                                                 \n",
      " batch_normalization_7 (Batc  (None, 64, 64, 32)       128       \n",
      " hNormalization)                                                 \n",
      "                                                                 \n",
      " max_pooling2d_7 (MaxPooling  (None, 32, 32, 32)       0         \n",
      " 2D)                                                             \n",
      "                                                                 \n",
      " dropout_8 (Dropout)         (None, 32, 32, 32)        0         \n",
      "                                                                 \n",
      " conv2d_8 (Conv2D)           (None, 32, 32, 64)        18496     \n",
      "                                                                 \n",
      " batch_normalization_8 (Batc  (None, 32, 32, 64)       256       \n",
      " hNormalization)                                                 \n",
      "                                                                 \n",
      " max_pooling2d_8 (MaxPooling  (None, 16, 16, 64)       0         \n",
      " 2D)                                                             \n",
      "                                                                 \n",
      " dropout_9 (Dropout)         (None, 16, 16, 64)        0         \n",
      "                                                                 \n",
      " conv2d_9 (Conv2D)           (None, 16, 16, 128)       73856     \n",
      "                                                                 \n",
      " batch_normalization_9 (Batc  (None, 16, 16, 128)      512       \n",
      " hNormalization)                                                 \n",
      "                                                                 \n",
      " max_pooling2d_9 (MaxPooling  (None, 8, 8, 128)        0         \n",
      " 2D)                                                             \n",
      "                                                                 \n",
      " dropout_10 (Dropout)        (None, 8, 8, 128)         0         \n",
      "                                                                 \n",
      " conv2d_10 (Conv2D)          (None, 8, 8, 256)         295168    \n",
      "                                                                 \n",
      " batch_normalization_10 (Bat  (None, 8, 8, 256)        1024      \n",
      " chNormalization)                                                \n",
      "                                                                 \n",
      " max_pooling2d_10 (MaxPoolin  (None, 4, 4, 256)        0         \n",
      " g2D)                                                            \n",
      "                                                                 \n",
      " dropout_11 (Dropout)        (None, 4, 4, 256)         0         \n",
      "                                                                 \n",
      " dense_3 (Dense)             (None, 4, 4, 256)         65792     \n",
      "                                                                 \n",
      " dropout_12 (Dropout)        (None, 4, 4, 256)         0         \n",
      "                                                                 \n",
      " flatten_2 (Flatten)         (None, 4096)              0         \n",
      "                                                                 \n",
      " dense_4 (Dense)             (None, 18)                73746     \n",
      "                                                                 \n",
      "=================================================================\n",
      "Total params: 529,874\n",
      "Trainable params: 528,914\n",
      "Non-trainable params: 960\n",
      "_________________________________________________________________\n"
     ]
    }
   ],
   "source": [
    "# Define the CNN Model from Scratch\n",
    "def build_scratch_cnn_shallow_calibrated():\n",
    "    model = models.Sequential()\n",
    "    model.add(tf.keras.Input(shape=(IMG_SIZE[0], IMG_SIZE[1], 3)))\n",
    "    model.add(layers.Rescaling(1.0 / 255))  # Normalize pixel values\n",
    "    \n",
    "    model.add(layers.Conv2D(32, 3, padding='same', activation='relu')) \n",
    "    model.add(layers.BatchNormalization())\n",
    "    model.add(layers.MaxPooling2D())\n",
    "    model.add(layers.Dropout(0.1))\n",
    "    \n",
    "    model.add(layers.Conv2D(64, 3, padding='same', activation='relu')) \n",
    "    model.add(layers.BatchNormalization()) \n",
    "    model.add(layers.MaxPooling2D())\n",
    "    model.add(layers.Dropout(0.1))\n",
    "    \n",
    "    model.add(layers.Conv2D(128, 3, padding='same', activation='relu'))  \n",
    "    model.add(layers.BatchNormalization())\n",
    "    model.add(layers.MaxPooling2D())\n",
    "    model.add(layers.Dropout(0.1))\n",
    "\n",
    "    model.add(layers.Conv2D(256, 3, padding='same', activation='relu'))  \n",
    "    model.add(layers.BatchNormalization())\n",
    "    model.add(layers.MaxPooling2D())\n",
    "    model.add(layers.Dropout(0.1))\n",
    "\n",
    "    model.add(layers.Dense(256, activation='relu'))\n",
    "    model.add(layers.Dropout(0.3))\n",
    "    \n",
    "    model.add(layers.Flatten())\n",
    "\n",
    "    model.add(layers.Dense(num_classes, activation='softmax'))\n",
    "\n",
    "    # Compile model with an initial learning rate\n",
    "    model.compile(\n",
    "        # Adam optimizer is used with a specified initial learning rate of 0.001. The learning rate\n",
    "        # controls how much the weights of the model are adjusted relative to the gradient of the loss \n",
    "        # function. A higher learning rate might converge quickly, but too high can cause the training \n",
    "        # to diverge. A lower learning rate ensures more reliable convergence but at the risk of slowing\n",
    "        # down the training process. The chosen rate of 0.001 is a starting point that balances these factors.\n",
    "        optimizer=tf.keras.optimizers.Adam(learning_rate=0.001),\n",
    "        loss='categorical_crossentropy',\n",
    "        metrics=['accuracy']\n",
    "        )\n",
    "    \n",
    "    return model\n",
    "\n",
    "# Instantiate and summarize the lighter model\n",
    "scratch_model_shallow_calibrated = build_scratch_cnn_shallow_calibrated()\n",
    "scratch_model_shallow_calibrated.summary()"
   ]
  },
  {
   "cell_type": "markdown",
   "metadata": {},
   "source": [
    "### **CNN Model: Shallow Calibrated - Training**"
   ]
  },
  {
   "cell_type": "code",
   "execution_count": 18,
   "metadata": {},
   "outputs": [
    {
     "name": "stdout",
     "output_type": "stream",
     "text": [
      "\n",
      "Epoch 1: LearningRateScheduler setting learning rate to 0.0010000000474974513.\n",
      "Epoch 1/10\n",
      "2754/2754 [==============================] - 52s 18ms/step - loss: 1.7793 - accuracy: 0.4315 - val_loss: 1.0155 - val_accuracy: 0.6743 - lr: 0.0010\n",
      "\n",
      "Epoch 2: LearningRateScheduler setting learning rate to 0.0009900990569281696.\n",
      "Epoch 2/10\n",
      "2754/2754 [==============================] - 54s 20ms/step - loss: 0.8863 - accuracy: 0.7128 - val_loss: 0.6168 - val_accuracy: 0.8032 - lr: 9.9010e-04\n",
      "\n",
      "Epoch 3: LearningRateScheduler setting learning rate to 0.0009706853341092082.\n",
      "Epoch 3/10\n",
      "2754/2754 [==============================] - 52s 19ms/step - loss: 0.6724 - accuracy: 0.7829 - val_loss: 0.5324 - val_accuracy: 0.8290 - lr: 9.7069e-04\n",
      "\n",
      "Epoch 4: LearningRateScheduler setting learning rate to 0.0009424129424128428.\n",
      "Epoch 4/10\n",
      "2754/2754 [==============================] - 49s 18ms/step - loss: 0.5610 - accuracy: 0.8189 - val_loss: 0.4719 - val_accuracy: 0.8515 - lr: 9.4241e-04\n",
      "\n",
      "Epoch 5: LearningRateScheduler setting learning rate to 0.0009061662869778676.\n",
      "Epoch 5/10\n",
      "2754/2754 [==============================] - 51s 18ms/step - loss: 0.4784 - accuracy: 0.8451 - val_loss: 0.5200 - val_accuracy: 0.8325 - lr: 9.0617e-04\n",
      "\n",
      "Epoch 6: LearningRateScheduler setting learning rate to 0.0008630154964824517.\n",
      "Epoch 6/10\n",
      "2754/2754 [==============================] - 51s 19ms/step - loss: 0.4133 - accuracy: 0.8647 - val_loss: 0.4846 - val_accuracy: 0.8498 - lr: 8.6302e-04\n",
      "\n",
      "Epoch 7: LearningRateScheduler setting learning rate to 0.0008141655444149982.\n",
      "Epoch 7/10\n",
      "2754/2754 [==============================] - 51s 18ms/step - loss: 0.3745 - accuracy: 0.8775 - val_loss: 0.3575 - val_accuracy: 0.8905 - lr: 8.1417e-04\n",
      "\n",
      "Epoch 8: LearningRateScheduler setting learning rate to 0.000760902402591761.\n",
      "Epoch 8/10\n",
      "2754/2754 [==============================] - 51s 18ms/step - loss: 0.3320 - accuracy: 0.8914 - val_loss: 0.4352 - val_accuracy: 0.8646 - lr: 7.6090e-04\n",
      "\n",
      "Epoch 9: LearningRateScheduler setting learning rate to 0.0007045392757626595.\n",
      "Epoch 9/10\n",
      "2754/2754 [==============================] - 50s 18ms/step - loss: 0.2960 - accuracy: 0.9020 - val_loss: 0.3534 - val_accuracy: 0.8913 - lr: 7.0454e-04\n",
      "\n",
      "Epoch 10: LearningRateScheduler setting learning rate to 0.0006463663297953135.\n",
      "Epoch 10/10\n",
      "2754/2754 [==============================] - 50s 18ms/step - loss: 0.2632 - accuracy: 0.9131 - val_loss: 0.4203 - val_accuracy: 0.8750 - lr: 6.4637e-04\n"
     ]
    }
   ],
   "source": [
    "# Train the model\n",
    "history_shallow_calibrated = scratch_model_shallow_calibrated.fit(\n",
    "    train_ds,\n",
    "    validation_data=val_ds,\n",
    "    epochs=10,\n",
    "    callbacks=callbacks  # Include both callbacks here\n",
    ")"
   ]
  },
  {
   "cell_type": "markdown",
   "metadata": {},
   "source": [
    "#### **CNN Model: Shallow Calibrated - Save**"
   ]
  },
  {
   "cell_type": "code",
   "execution_count": 20,
   "metadata": {},
   "outputs": [],
   "source": [
    "# Save Model: .json\n",
    "# Saves the Model Architecture\n",
    "for key in history_shallow_calibrated.history.keys():\n",
    "    history_shallow_calibrated.history[key] = [float(i) for i in history_shallow_calibrated.history[key]]\n",
    "\n",
    "# Write the JSON file\n",
    "with open('json/cnn_model_shallow_calibrated.json', 'w') as f:\n",
    "    json.dump(history_shallow_calibrated.history, f)\n",
    "\n",
    "\n",
    "# Save Model: .h5\n",
    "# Saves the Model Weights and Configurations\n",
    "scratch_model_shallow_calibrated.save('h5/scratch_model_shallow_calibrated.h5')"
   ]
  },
  {
   "cell_type": "markdown",
   "metadata": {},
   "source": [
    "## **CNN Model: Shallow Calibrated + Data Augmentation**"
   ]
  },
  {
   "cell_type": "code",
   "execution_count": 36,
   "metadata": {},
   "outputs": [
    {
     "name": "stdout",
     "output_type": "stream",
     "text": [
      "Model: \"sequential_13\"\n",
      "_________________________________________________________________\n",
      " Layer (type)                Output Shape              Param #   \n",
      "=================================================================\n",
      " sequential (Sequential)     (None, 64, 64, 3)         0         \n",
      "                                                                 \n",
      " rescaling_12 (Rescaling)    (None, 64, 64, 3)         0         \n",
      "                                                                 \n",
      " conv2d_45 (Conv2D)          (None, 64, 64, 32)        896       \n",
      "                                                                 \n",
      " batch_normalization_44 (Bat  (None, 64, 64, 32)       128       \n",
      " chNormalization)                                                \n",
      "                                                                 \n",
      " max_pooling2d_44 (MaxPoolin  (None, 32, 32, 32)       0         \n",
      " g2D)                                                            \n",
      "                                                                 \n",
      " dropout_47 (Dropout)        (None, 32, 32, 32)        0         \n",
      "                                                                 \n",
      " conv2d_46 (Conv2D)          (None, 32, 32, 64)        18496     \n",
      "                                                                 \n",
      " batch_normalization_45 (Bat  (None, 32, 32, 64)       256       \n",
      " chNormalization)                                                \n",
      "                                                                 \n",
      " max_pooling2d_45 (MaxPoolin  (None, 16, 16, 64)       0         \n",
      " g2D)                                                            \n",
      "                                                                 \n",
      " dropout_48 (Dropout)        (None, 16, 16, 64)        0         \n",
      "                                                                 \n",
      " conv2d_47 (Conv2D)          (None, 16, 16, 128)       73856     \n",
      "                                                                 \n",
      " batch_normalization_46 (Bat  (None, 16, 16, 128)      512       \n",
      " chNormalization)                                                \n",
      "                                                                 \n",
      " max_pooling2d_46 (MaxPoolin  (None, 8, 8, 128)        0         \n",
      " g2D)                                                            \n",
      "                                                                 \n",
      " dropout_49 (Dropout)        (None, 8, 8, 128)         0         \n",
      "                                                                 \n",
      " conv2d_48 (Conv2D)          (None, 8, 8, 256)         295168    \n",
      "                                                                 \n",
      " batch_normalization_47 (Bat  (None, 8, 8, 256)        1024      \n",
      " chNormalization)                                                \n",
      "                                                                 \n",
      " max_pooling2d_47 (MaxPoolin  (None, 4, 4, 256)        0         \n",
      " g2D)                                                            \n",
      "                                                                 \n",
      " dropout_50 (Dropout)        (None, 4, 4, 256)         0         \n",
      "                                                                 \n",
      " dense_20 (Dense)            (None, 4, 4, 256)         65792     \n",
      "                                                                 \n",
      " dropout_51 (Dropout)        (None, 4, 4, 256)         0         \n",
      "                                                                 \n",
      " flatten_11 (Flatten)        (None, 4096)              0         \n",
      "                                                                 \n",
      " dense_21 (Dense)            (None, 18)                73746     \n",
      "                                                                 \n",
      "=================================================================\n",
      "Total params: 529,874\n",
      "Trainable params: 528,914\n",
      "Non-trainable params: 960\n",
      "_________________________________________________________________\n"
     ]
    }
   ],
   "source": [
    "# Define the CNN Model from Scratch\n",
    "def build_scratch_cnn_shallow_calibrated_DA():\n",
    "    model = models.Sequential()\n",
    "    model.add(tf.keras.Input(shape=(IMG_SIZE[0], IMG_SIZE[1], 3)))\n",
    "    model.add(data_augmentation_layers)\n",
    "    model.add(layers.Rescaling(1.0 / 255))  # Normalize pixel values\n",
    "    \n",
    "    # L1 and L2 regularization is applied to the weights of the layer, with a regularization strength of 0.001.\n",
    "    # This regularization helps prevent overfitting by penalizing large weights, encouraging the model to learn smaller, more general weights.\n",
    "    model.add(layers.Conv2D(32, 3, padding='same', activation='relu'))\n",
    "    model.add(layers.BatchNormalization())\n",
    "    model.add(layers.MaxPooling2D())\n",
    "    model.add(layers.Dropout(0.1))\n",
    "    \n",
    "    model.add(layers.Conv2D(64, 3, padding='same', activation='relu'))\n",
    "    model.add(layers.BatchNormalization()) \n",
    "    model.add(layers.MaxPooling2D())\n",
    "    model.add(layers.Dropout(0.1))\n",
    "    \n",
    "    model.add(layers.Conv2D(128, 3, padding='same', activation='relu'))\n",
    "    model.add(layers.BatchNormalization())\n",
    "    model.add(layers.MaxPooling2D())\n",
    "    model.add(layers.Dropout(0.1))\n",
    "\n",
    "    model.add(layers.Conv2D(256, 3, padding='same', activation='relu'))\n",
    "    model.add(layers.BatchNormalization())\n",
    "    model.add(layers.MaxPooling2D())\n",
    "    model.add(layers.Dropout(0.1))\n",
    "\n",
    "    # Elastic Net Regularization is applied to the weights of this layer, with a regularization strength of 0.001.\n",
    "    # This regularization helps prevent overfitting by penalizing large weights, encouraging the model to learn smaller, more general weights.\n",
    "    model.add(layers.Dense(256, activation='relu', kernel_regularizer=elastic_net_regularizer))\n",
    "    model.add(layers.Dropout(0.3))\n",
    "    \n",
    "    model.add(layers.Flatten())\n",
    "\n",
    "    model.add(layers.Dense(num_classes, activation='softmax'))\n",
    "\n",
    "    # Compile model with an initial learning rate\n",
    "    model.compile(\n",
    "        # Adam optimizer is used with a specified initial learning rate of 0.001. The learning rate\n",
    "        # controls how much the weights of the model are adjusted relative to the gradient of the loss \n",
    "        # function. A higher learning rate might converge quickly, but too high can cause the training \n",
    "        # to diverge. A lower learning rate ensures more reliable convergence but at the risk of slowing\n",
    "        # down the training process. The chosen rate of 0.001 is a starting point that balances these factors.\n",
    "        optimizer=tf.keras.optimizers.Adam(learning_rate=0.001),\n",
    "        loss='categorical_crossentropy',\n",
    "        metrics=['accuracy']\n",
    "        )\n",
    "    \n",
    "    return model\n",
    "\n",
    "# Instantiate and summarize the lighter model\n",
    "scratch_model_shallow_calibrated_DA = build_scratch_cnn_shallow_calibrated_DA()\n",
    "scratch_model_shallow_calibrated_DA.summary()"
   ]
  },
  {
   "cell_type": "markdown",
   "metadata": {},
   "source": [
    "### **CNN Model: Shallow Calibrated Data Augmentation - Training**"
   ]
  },
  {
   "cell_type": "code",
   "execution_count": 37,
   "metadata": {},
   "outputs": [
    {
     "name": "stdout",
     "output_type": "stream",
     "text": [
      "\n",
      "Epoch 1: LearningRateScheduler setting learning rate to 0.0010000000474974513.\n",
      "Epoch 1/10\n",
      "2754/2754 [==============================] - 358s 129ms/step - loss: 3.3454 - accuracy: 0.3425 - val_loss: 1.7126 - val_accuracy: 0.5860 - lr: 0.0010\n",
      "\n",
      "Epoch 2: LearningRateScheduler setting learning rate to 0.0009900990569281696.\n",
      "Epoch 2/10\n",
      "2754/2754 [==============================] - 353s 128ms/step - loss: 1.5860 - accuracy: 0.6044 - val_loss: 1.2595 - val_accuracy: 0.7255 - lr: 9.9010e-04\n",
      "\n",
      "Epoch 3: LearningRateScheduler setting learning rate to 0.0009706853341092082.\n",
      "Epoch 3/10\n",
      "2754/2754 [==============================] - 347s 126ms/step - loss: 1.3381 - accuracy: 0.6820 - val_loss: 1.3125 - val_accuracy: 0.7023 - lr: 9.7069e-04\n",
      "\n",
      "Epoch 4: LearningRateScheduler setting learning rate to 0.0009424129424128428.\n",
      "Epoch 4/10\n",
      "2754/2754 [==============================] - 347s 126ms/step - loss: 1.2133 - accuracy: 0.7194 - val_loss: 1.1498 - val_accuracy: 0.7619 - lr: 9.4241e-04\n",
      "\n",
      "Epoch 5: LearningRateScheduler setting learning rate to 0.0009061662869778676.\n",
      "Epoch 5/10\n",
      "2754/2754 [==============================] - 347s 126ms/step - loss: 1.1224 - accuracy: 0.7461 - val_loss: 0.9584 - val_accuracy: 0.8127 - lr: 9.0617e-04\n",
      "\n",
      "Epoch 6: LearningRateScheduler setting learning rate to 0.0008630154964824517.\n",
      "Epoch 6/10\n",
      "2754/2754 [==============================] - 340s 123ms/step - loss: 1.0439 - accuracy: 0.7644 - val_loss: 0.9319 - val_accuracy: 0.8175 - lr: 8.6302e-04\n",
      "\n",
      "Epoch 7: LearningRateScheduler setting learning rate to 0.0008141655444149982.\n",
      "Epoch 7/10\n",
      "2754/2754 [==============================] - 325s 118ms/step - loss: 0.9948 - accuracy: 0.7777 - val_loss: 0.7806 - val_accuracy: 0.8614 - lr: 8.1417e-04\n",
      "\n",
      "Epoch 8: LearningRateScheduler setting learning rate to 0.000760902402591761.\n",
      "Epoch 8/10\n",
      "2754/2754 [==============================] - 321s 117ms/step - loss: 0.9432 - accuracy: 0.7891 - val_loss: 0.7860 - val_accuracy: 0.8484 - lr: 7.6090e-04\n",
      "\n",
      "Epoch 9: LearningRateScheduler setting learning rate to 0.0007045392757626595.\n",
      "Epoch 9/10\n",
      "2754/2754 [==============================] - 319s 116ms/step - loss: 0.8978 - accuracy: 0.7971 - val_loss: 0.8316 - val_accuracy: 0.8282 - lr: 7.0454e-04\n",
      "\n",
      "Epoch 10: LearningRateScheduler setting learning rate to 0.0006463663297953135.\n",
      "Epoch 10/10\n",
      "2754/2754 [==============================] - 321s 117ms/step - loss: 0.8520 - accuracy: 0.8087 - val_loss: 0.6846 - val_accuracy: 0.8679 - lr: 6.4637e-04\n"
     ]
    }
   ],
   "source": [
    "# Train the model\n",
    "history_shallow_calibrated_DA = scratch_model_shallow_calibrated_DA.fit(\n",
    "    train_ds,\n",
    "    validation_data=val_ds,\n",
    "    epochs=10,\n",
    "    callbacks=callbacks  # Include both callbacks here\n",
    ")"
   ]
  },
  {
   "cell_type": "markdown",
   "metadata": {},
   "source": [
    "#### **CNN Model: Shallow Calibrated Data Augmentation - Save**"
   ]
  },
  {
   "cell_type": "code",
   "execution_count": 39,
   "metadata": {},
   "outputs": [],
   "source": [
    "# Save Model: .json\n",
    "# Saves the Model Architecture\n",
    "for key in history_shallow_calibrated_DA.history.keys():\n",
    "    history_shallow_calibrated_DA.history[key] = [float(i) for i in history_shallow_calibrated_DA.history[key]]\n",
    "\n",
    "# Write the JSON file\n",
    "with open('json/cnn_model_shallow_calibrated_DA.json', 'w') as f:\n",
    "    json.dump(history_shallow_calibrated_DA.history, f)\n",
    "\n",
    "\n",
    "# Save Model: .h5\n",
    "# Saves the Model Weights and Configurations\n",
    "scratch_model_shallow_calibrated_DA.save('h5/scratch_model_shallow_calibrated_DA.h5')"
   ]
  },
  {
   "cell_type": "markdown",
   "metadata": {},
   "source": [
    "## **CNN Model: K-Fold Cross Validation**"
   ]
  },
  {
   "cell_type": "code",
   "execution_count": 41,
   "metadata": {},
   "outputs": [
    {
     "name": "stdout",
     "output_type": "stream",
     "text": [
      "Model: \"sequential_14\"\n",
      "_________________________________________________________________\n",
      " Layer (type)                Output Shape              Param #   \n",
      "=================================================================\n",
      " rescaling_13 (Rescaling)    (None, 64, 64, 3)         0         \n",
      "                                                                 \n",
      " conv2d_49 (Conv2D)          (None, 64, 64, 16)        448       \n",
      "                                                                 \n",
      " batch_normalization_48 (Bat  (None, 64, 64, 16)       64        \n",
      " chNormalization)                                                \n",
      "                                                                 \n",
      " max_pooling2d_48 (MaxPoolin  (None, 32, 32, 16)       0         \n",
      " g2D)                                                            \n",
      "                                                                 \n",
      " dropout_52 (Dropout)        (None, 32, 32, 16)        0         \n",
      "                                                                 \n",
      " conv2d_50 (Conv2D)          (None, 32, 32, 32)        4640      \n",
      "                                                                 \n",
      " batch_normalization_49 (Bat  (None, 32, 32, 32)       128       \n",
      " chNormalization)                                                \n",
      "                                                                 \n",
      " max_pooling2d_49 (MaxPoolin  (None, 16, 16, 32)       0         \n",
      " g2D)                                                            \n",
      "                                                                 \n",
      " dropout_53 (Dropout)        (None, 16, 16, 32)        0         \n",
      "                                                                 \n",
      " conv2d_51 (Conv2D)          (None, 16, 16, 64)        18496     \n",
      "                                                                 \n",
      " batch_normalization_50 (Bat  (None, 16, 16, 64)       256       \n",
      " chNormalization)                                                \n",
      "                                                                 \n",
      " max_pooling2d_50 (MaxPoolin  (None, 8, 8, 64)         0         \n",
      " g2D)                                                            \n",
      "                                                                 \n",
      " dropout_54 (Dropout)        (None, 8, 8, 64)          0         \n",
      "                                                                 \n",
      " conv2d_52 (Conv2D)          (None, 8, 8, 128)         73856     \n",
      "                                                                 \n",
      " batch_normalization_51 (Bat  (None, 8, 8, 128)        512       \n",
      " chNormalization)                                                \n",
      "                                                                 \n",
      " max_pooling2d_51 (MaxPoolin  (None, 4, 4, 128)        0         \n",
      " g2D)                                                            \n",
      "                                                                 \n",
      " dropout_55 (Dropout)        (None, 4, 4, 128)         0         \n",
      "                                                                 \n",
      " dense_22 (Dense)            (None, 4, 4, 256)         33024     \n",
      "                                                                 \n",
      " dropout_56 (Dropout)        (None, 4, 4, 256)         0         \n",
      "                                                                 \n",
      " flatten_12 (Flatten)        (None, 4096)              0         \n",
      "                                                                 \n",
      " dense_23 (Dense)            (None, 18)                73746     \n",
      "                                                                 \n",
      "=================================================================\n",
      "Total params: 205,170\n",
      "Trainable params: 204,690\n",
      "Non-trainable params: 480\n",
      "_________________________________________________________________\n"
     ]
    }
   ],
   "source": [
    "# Define the Light CNN Model from Scratch\n",
    "def build_scratch_cnn_shallow_kfold():\n",
    "    model = models.Sequential()\n",
    "    model.add(tf.keras.Input(shape=(IMG_SIZE[0], IMG_SIZE[1], 3)))\n",
    "    model.add(layers.Rescaling(1.0 / 255))  # Normalize pixel values\n",
    "    \n",
    "    model.add(layers.Conv2D(16, 3, padding='same', activation='relu')) \n",
    "    model.add(layers.BatchNormalization())\n",
    "    model.add(layers.MaxPooling2D())\n",
    "    model.add(layers.Dropout(0.1))\n",
    "    \n",
    "    model.add(layers.Conv2D(32, 3, padding='same', activation='relu'))  \n",
    "    model.add(layers.BatchNormalization())\n",
    "    model.add(layers.MaxPooling2D())\n",
    "    model.add(layers.Dropout(0.1))\n",
    "    \n",
    "    model.add(layers.Conv2D(64, 3, padding='same', activation='relu'))  \n",
    "    model.add(layers.BatchNormalization())\n",
    "    model.add(layers.MaxPooling2D())\n",
    "    model.add(layers.Dropout(0.1))\n",
    "\n",
    "    model.add(layers.Conv2D(128, 3, padding='same', activation='relu', kernel_regularizer=elastic_net_regularizer))\n",
    "    model.add(layers.BatchNormalization())\n",
    "    model.add(layers.MaxPooling2D())\n",
    "    model.add(layers.Dropout(0.1))\n",
    "\n",
    "    # Elastic Net Regularization is applied to the weights of this layer, with a regularization strength of 0.001.\n",
    "    # This regularization helps prevent overfitting by penalizing large weights, encouraging the model to learn smaller, more general weights.\n",
    "    model.add(layers.Dense(256, activation='relu', kernel_regularizer=elastic_net_regularizer))\n",
    "    model.add(layers.Dropout(0.3))\n",
    "    \n",
    "    model.add(layers.Flatten())\n",
    "\n",
    "    model.add(layers.Dense(num_classes, activation='softmax'))\n",
    "\n",
    "    # Compile model with an initial learning rate\n",
    "    model.compile(\n",
    "        optimizer=tf.keras.optimizers.Adam(learning_rate=0.001),\n",
    "        loss='categorical_crossentropy',\n",
    "        metrics=['accuracy']\n",
    "        )\n",
    "    return model\n",
    "\n",
    "# Instantiate and summarize the lighter model\n",
    "scratch_model_shallow_kfold = build_scratch_cnn_shallow_kfold()\n",
    "scratch_model_shallow_kfold.summary()"
   ]
  },
  {
   "cell_type": "markdown",
   "metadata": {},
   "source": [
    "### **CNN Model: K-Fold Cross Validation - Training**"
   ]
  },
  {
   "cell_type": "code",
   "execution_count": 43,
   "metadata": {},
   "outputs": [
    {
     "ename": "UnboundLocalError",
     "evalue": "local variable 'full_ds' referenced before assignment",
     "output_type": "error",
     "traceback": [
      "\u001b[1;31m---------------------------------------------------------------------------\u001b[0m",
      "\u001b[1;31mUnboundLocalError\u001b[0m                         Traceback (most recent call last)",
      "Cell \u001b[1;32mIn[43], line 35\u001b[0m\n\u001b[0;32m     32\u001b[0m     \u001b[38;5;28;01mreturn\u001b[39;00m all_fold_history\n\u001b[0;32m     34\u001b[0m \u001b[38;5;66;03m# Call the k-fold cross-validation function\u001b[39;00m\n\u001b[1;32m---> 35\u001b[0m \u001b[43mperform_k_fold\u001b[49m\u001b[43m(\u001b[49m\u001b[43mnum_folds\u001b[49m\u001b[38;5;241;43m=\u001b[39;49m\u001b[38;5;241;43m5\u001b[39;49m\u001b[43m)\u001b[49m\n",
      "Cell \u001b[1;32mIn[43], line 7\u001b[0m, in \u001b[0;36mperform_k_fold\u001b[1;34m(num_folds)\u001b[0m\n\u001b[0;32m      4\u001b[0m all_fold_history \u001b[38;5;241m=\u001b[39m []\n\u001b[0;32m      6\u001b[0m \u001b[38;5;66;03m# Shuffle the dataset\u001b[39;00m\n\u001b[1;32m----> 7\u001b[0m full_ds \u001b[38;5;241m=\u001b[39m \u001b[43mfull_ds\u001b[49m\u001b[38;5;241m.\u001b[39mshuffle(buffer_size\u001b[38;5;241m=\u001b[39m\u001b[38;5;28mlen\u001b[39m(full_ds))\n\u001b[0;32m      9\u001b[0m total_batches \u001b[38;5;241m=\u001b[39m \u001b[38;5;28mint\u001b[39m(tf\u001b[38;5;241m.\u001b[39mdata\u001b[38;5;241m.\u001b[39mexperimental\u001b[38;5;241m.\u001b[39mcardinality(full_ds)\u001b[38;5;241m.\u001b[39mnumpy())\n\u001b[0;32m     10\u001b[0m fold_size \u001b[38;5;241m=\u001b[39m total_batches \u001b[38;5;241m/\u001b[39m\u001b[38;5;241m/\u001b[39m num_folds\n",
      "\u001b[1;31mUnboundLocalError\u001b[0m: local variable 'full_ds' referenced before assignment"
     ]
    }
   ],
   "source": [
    "# Function to implement k-fold cross-validation within the TensorFlow pipeline\n",
    "def perform_k_fold(num_folds=5):\n",
    "    # Prepare to collect fold results\n",
    "    all_fold_history = []\n",
    "\n",
    "    # Shuffle the dataset\n",
    "    full_ds = full_ds.shuffle(buffer_size=len(full_ds))\n",
    "\n",
    "    total_batches = int(tf.data.experimental.cardinality(full_ds).numpy())\n",
    "    fold_size = total_batches // num_folds\n",
    "\n",
    "    for fold in range(num_folds):\n",
    "        print(f\"Training on fold {fold+1}/{num_folds}...\")\n",
    "\n",
    "        val_start = fold * fold_size\n",
    "        val_end = val_start + fold_size\n",
    "\n",
    "        val_ds_fold = full_ds.skip(val_start).take(fold_size)\n",
    "        train_ds_fold = full_ds.take(val_start).concatenate(full_ds.skip(val_end))\n",
    "\n",
    "        scratch_model_shallow_kfold = build_scratch_cnn_shallow_kfold()\n",
    "\n",
    "        # Train the model\n",
    "        history_kfold = scratch_model_shallow_kfold.fit(\n",
    "            train_ds_fold, \n",
    "            validation_data=val_ds_fold,\n",
    "            epochs=10,\n",
    "            callbacks=callbacks\n",
    "        )\n",
    "        all_fold_history.append(history_kfold.history)\n",
    "\n",
    "    return all_fold_history\n",
    "\n",
    "# Call the k-fold cross-validation function\n",
    "perform_k_fold(num_folds=5)"
   ]
  },
  {
   "cell_type": "code",
   "execution_count": null,
   "metadata": {},
   "outputs": [],
   "source": [
    "# Call the k-fold function and store histories\n",
    "fold_histories = perform_k_fold(num_folds=5)\n",
    "\n",
    "# Example of plotting the average accuracy per epoch across all folds\n",
    "def plot_k_fold_accuracy(histories):\n",
    "    avg_accuracy = np.mean([hist['accuracy'] for hist in histories], axis=0)\n",
    "    plt.figure(figsize=(8, 5))\n",
    "    plt.plot(avg_accuracy, label='Average Training Accuracy')\n",
    "    plt.title('Training Accuracy per Epoch Across All Folds')\n",
    "    plt.xlabel('Epochs')\n",
    "    plt.ylabel('Accuracy')\n",
    "    plt.legend()\n",
    "    plt.show()\n",
    "\n",
    "# Plotting the results\n",
    "plot_k_fold_accuracy(fold_histories)"
   ]
  },
  {
   "cell_type": "markdown",
   "metadata": {},
   "source": [
    "## **CNN Model: Shallow Greyscale**"
   ]
  },
  {
   "cell_type": "code",
   "execution_count": null,
   "metadata": {},
   "outputs": [],
   "source": []
  },
  {
   "cell_type": "markdown",
   "metadata": {},
   "source": [
    "---\n",
    "\n",
    "# **CNN's from Scratch: Deep**\n",
    "\n",
    "---"
   ]
  },
  {
   "cell_type": "markdown",
   "metadata": {},
   "source": [
    "## **CNN Model: Deep**"
   ]
  },
  {
   "cell_type": "code",
   "execution_count": null,
   "metadata": {},
   "outputs": [],
   "source": []
  },
  {
   "cell_type": "markdown",
   "metadata": {},
   "source": [
    "## **CNN Model: Deep Calibrated**"
   ]
  },
  {
   "cell_type": "code",
   "execution_count": null,
   "metadata": {},
   "outputs": [],
   "source": []
  },
  {
   "cell_type": "markdown",
   "metadata": {},
   "source": [
    "## **CNN Model: Deep Calibrated + Data Augmentation**"
   ]
  },
  {
   "cell_type": "code",
   "execution_count": null,
   "metadata": {},
   "outputs": [],
   "source": []
  },
  {
   "cell_type": "markdown",
   "metadata": {},
   "source": [
    "## **CNN Model: Deep Greyscale**"
   ]
  },
  {
   "cell_type": "code",
   "execution_count": null,
   "metadata": {},
   "outputs": [],
   "source": []
  },
  {
   "cell_type": "markdown",
   "metadata": {},
   "source": []
  }
 ],
 "metadata": {
  "kernelspec": {
   "display_name": "py310new",
   "language": "python",
   "name": "python3"
  },
  "language_info": {
   "codemirror_mode": {
    "name": "ipython",
    "version": 3
   },
   "file_extension": ".py",
   "mimetype": "text/x-python",
   "name": "python",
   "nbconvert_exporter": "python",
   "pygments_lexer": "ipython3",
   "version": "3.10.14"
  }
 },
 "nbformat": 4,
 "nbformat_minor": 2
}
